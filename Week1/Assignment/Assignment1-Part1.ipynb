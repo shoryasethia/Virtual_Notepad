{
 "cells": [
  {
   "cell_type": "markdown",
   "metadata": {},
   "source": [
    "## Assignment 1 Part 1"
   ]
  },
  {
   "cell_type": "code",
   "execution_count": 1,
   "metadata": {},
   "outputs": [
    {
     "name": "stdout",
     "output_type": "stream",
     "text": [
      "n = 3.4\n"
     ]
    }
   ],
   "source": [
    "# Take value of n (dtype = float) as an input from user and print it \n"
   ]
  },
  {
   "cell_type": "code",
   "execution_count": 2,
   "metadata": {},
   "outputs": [
    {
     "name": "stdout",
     "output_type": "stream",
     "text": [
      "n=3.4 is not an integer\n",
      "n=4.56 is not an integer\n",
      "n=5.0 is an Integer\n",
      "n=5.0 is odd\n"
     ]
    }
   ],
   "source": [
    "# Check if the input value is integer or not\n",
    "# If not integer then keep on taking the values from user until the input value is integer\n",
    "# And check whether the integral input value is even or odd\n",
    "\n",
    "while         :\n",
    "  if    :\n",
    "    \n",
    "\n",
    "  else        :\n",
    "    \n",
    "    \n",
    "    \n",
    "    \n",
    "if       :\n",
    "  if      :\n",
    "    print(f\"n={n} is even\")\n",
    "  else    :\n",
    "    print(f\"n={n} is odd\")"
   ]
  },
  {
   "cell_type": "code",
   "execution_count": 3,
   "metadata": {},
   "outputs": [],
   "source": [
    "# Define an array and take its elements as input\n",
    "import numpy as np\n",
    "\n",
    "n =\n",
    "arr = \n",
    "\n",
    "\n",
    "\n",
    "\n",
    "\n"
   ]
  },
  {
   "cell_type": "markdown",
   "metadata": {},
   "source": [
    "A matrix is said to be **diagonally dominant** provided the\n",
    "magnitude of the diagonal element of each row is larger than\n",
    "the sum of the magnitudes of the off-diagonal elemets of that\n",
    "row"
   ]
  },
  {
   "cell_type": "code",
   "execution_count": 4,
   "metadata": {},
   "outputs": [
    {
     "name": "stdout",
     "output_type": "stream",
     "text": [
      "Original matrix: \n",
      "[[  90   69    0   -1   -3]\n",
      " [   4    2    3    7  406]\n",
      " [  11  -12   -3   43   33]\n",
      " [   7    7   -1   -9 -100]\n",
      " [ 100   62    2    1   11]]\n",
      "____________________________________________________________________________________________________ \n",
      "\n",
      "Adjusting Row 1.\n",
      "Swapped elements 2 && 406 in row 1 to make it diagonally dominant.\n",
      "[[  90   69    0   -1   -3]\n",
      " [   4  406    3    7    2]\n",
      " [  11  -12   -3   43   33]\n",
      " [   7    7   -1   -9 -100]\n",
      " [ 100   62    2    1   11]]\n",
      "Adjusting Row 2.\n",
      "Swapped elements -3 && 43 in row 2 to make it diagonally dominant.\n",
      "[[  90   69    0   -1   -3]\n",
      " [   4  406    3    7    2]\n",
      " [  11  -12   43   -3   33]\n",
      " [   7    7   -1   -9 -100]\n",
      " [ 100   62    2    1   11]]\n",
      "Adjusting Row 3.\n",
      "Swapped elements -9 && -100 in row 3 to make it diagonally dominant.\n",
      "[[  90   69    0   -1   -3]\n",
      " [   4  406    3    7    2]\n",
      " [  11  -12   43   -3   33]\n",
      " [   7    7   -1 -100   -9]\n",
      " [ 100   62    2    1   11]]\n",
      "Adjusting Row 4.\n",
      "Swapped elements 11 && 100 in row 4 to make it diagonally dominant.\n",
      "[[  90   69    0   -1   -3]\n",
      " [   4  406    3    7    2]\n",
      " [  11  -12   43   -3   33]\n",
      " [   7    7   -1 -100   -9]\n",
      " [  11   62    2    1  100]]\n",
      "Adjusting Row 2.\n",
      "Swapped elements 43 && 43 in row 2 to make it diagonally dominant.\n",
      "[[  90   69    0   -1   -3]\n",
      " [   4  406    3    7    2]\n",
      " [  11  -12   43   -3   33]\n",
      " [   7    7   -1 -100   -9]\n",
      " [  11   62    2    1  100]]\n",
      "The matrix is now diagonally dominant.\n",
      "____________________________________________________________________________________________________ \n",
      "\n",
      "Matrix Obtained is: \n",
      "[[  90   69    0   -1   -3]\n",
      " [   4  406    3    7    2]\n",
      " [  11  -12   43   -3   33]\n",
      " [   7    7   -1 -100   -9]\n",
      " [  11   62    2    1  100]]\n"
     ]
    }
   ],
   "source": [
    "# Implement a function on the matrix\n",
    "# Function should make each row's diagonal element to be maximum in its row irrespective of sign\n",
    "# Output the matrix and intermediate steps\n",
    "\n",
    "def diagonallyDominant(arr, verbose=False):\n",
    "    n = arr.shape[0]\n",
    "    \n",
    "\n",
    "\n",
    "\n",
    "\n",
    "\n",
    "\n",
    "\n",
    "\n",
    "\n",
    "\n",
    "\n",
    "\n",
    "\n",
    "\n",
    "\n",
    "\n",
    "\n",
    "\n",
    "\n",
    "\n",
    "          \n",
    "    return arr\n",
    "\n",
    "print(\"Original matrix: \")\n",
    "print(arr)\n",
    "print(\"_\"*100,\"\\n\")\n",
    "\n",
    "A = diagonallyDominant(arr, verbose=True)\n",
    "print(\"_\"*100,\"\\n\")\n",
    "\n",
    "print(\"Matrix obtained is: \")\n",
    "print(A)\n"
   ]
  },
  {
   "cell_type": "code",
   "execution_count": 5,
   "metadata": {},
   "outputs": [
    {
     "name": "stdout",
     "output_type": "stream",
     "text": [
      "[[  90   69    0   -1   -3]\n",
      " [   4  406    3    7    2]\n",
      " [  11  -12   43   -3   33]\n",
      " [   7    7   -1 -100   -9]\n",
      " [  11   62    2    1  100]] \n",
      " is not diagonally dominant\n"
     ]
    }
   ],
   "source": [
    "## Check the changed matrix (matrix obatined above) is diagonally dominant or not?\n",
    "\n",
    "row_sum = 0\n",
    "cnt = 0\n",
    "arr = A\n",
    "\n",
    "for i in range(n):\n",
    "  \n",
    "  \n",
    "  if               :\n",
    "    cnt += 1\n",
    "    \n",
    "    \n",
    "    \n",
    "if        :\n",
    "  print(f\"{A} is diagonally dominant\")\n",
    "  \n",
    "else :\n",
    "  print(f\"{A} \\n is not diagonally dominant\")\n",
    "  \n",
    "  \n"
   ]
  },
  {
   "cell_type": "code",
   "execution_count": null,
   "metadata": {},
   "outputs": [],
   "source": [
    "# Check which row creates the problem if the matrix is not diagonally dominant\n",
    "# And print that row indexes with elements\n",
    "\n",
    "\n",
    "\n",
    "\n"
   ]
  },
  {
   "cell_type": "code",
   "execution_count": 6,
   "metadata": {},
   "outputs": [
    {
     "data": {
      "image/png": "[encoded data removed]",
      "text/plain": [
       "<Figure size 640x480 with 1 Axes>"
      ]
     },
     "metadata": {},
     "output_type": "display_data"
    },
    {
     "data": {
      "image/png": "[encoded data removed]",
      "text/plain": [
       "<Figure size 640x480 with 1 Axes>"
      ]
     },
     "metadata": {},
     "output_type": "display_data"
    }
   ],
   "source": [
    "from matplotlib import pyplot as plt\n",
    "import math\n",
    "\n",
    "# Plot relu on different graph and sigmoid and tanh activations on same plots from -100 to 100\n",
    "# just read about their definations as of now\n",
    "\n",
    "x = np.linspace(-100,100, 10000)\n",
    "y_relu = []\n",
    "y_sigmoid = []\n",
    "y_tanh = []\n",
    "\n",
    "for i in range (len(x)):\n",
    "\n",
    "\n",
    "\n",
    "\n",
    "\n",
    "\n",
    "\n",
    "\n",
    "\n",
    "\n",
    "\n"
   ]
  },
  {
   "cell_type": "code",
   "execution_count": 7,
   "metadata": {},
   "outputs": [
    {
     "data": {
      "image/png": "[encoded data removed]",
      "text/plain": [
       "<Figure size 640x480 with 1 Axes>"
      ]
     },
     "metadata": {},
     "output_type": "display_data"
    }
   ],
   "source": [
    "# Plot all the diagonal elements against there ReLu, Sigmoid adn tanh activations on same plot\n",
    "\n",
    "x = []\n",
    "y_relu = []\n",
    "y_sigmoid = []\n",
    "y_tanh = []\n",
    "\n",
    "\n",
    "\n",
    "\n",
    "\n",
    "\n",
    "\n",
    "\n",
    "\n",
    "\n",
    "\n",
    "\n",
    "\n",
    "\n",
    "\n",
    "\n"
   ]
  },
  {
   "cell_type": "code",
   "execution_count": 9,
   "metadata": {},
   "outputs": [
    {
     "name": "stdout",
     "output_type": "stream",
     "text": [
      "Softmax of the diagonal elements of the matrix :\n",
      " [5.79353612e-138 1.00000000e+000 2.24441452e-158 1.76600593e-220\n",
      " 1.27611125e-133]\n"
     ]
    }
   ],
   "source": [
    "# Read about softmax function's defination / formula\n",
    "# Define and Implement  softmax function on diagonal elements of the matrix\n",
    "\n",
    "def softmax(arr):\n",
    "  n = arr.shape[0]\n",
    "  dd = []\n",
    "  \n",
    "  for i in range(n):\n",
    "    \n",
    "  return \n",
    "\n",
    "print(\"Softmax of the diagonal elements of the matrix :\\n\", softmax(arr))"
   ]
  },
  {
   "cell_type": "code",
   "execution_count": 10,
   "metadata": {},
   "outputs": [
    {
     "data": {
      "text/plain": [
       "[<matplotlib.lines.Line2D at 0x1727a27b520>]"
      ]
     },
     "execution_count": 10,
     "metadata": {},
     "output_type": "execute_result"
    },
    {
     "data": {
      "image/png": "[encoded data removed]",
      "text/plain": [
       "<Figure size 640x480 with 1 Axes>"
      ]
     },
     "metadata": {},
     "output_type": "display_data"
    }
   ],
   "source": [
    "# Plot softmax of the diagonal elements against the diagonal elements\n",
    "\n",
    "\n",
    "\n",
    "\n",
    "\n",
    "\n",
    "\n",
    "\n"
   ]
  },
  {
   "cell_type": "code",
   "execution_count": 13,
   "metadata": {},
   "outputs": [
    {
     "name": "stdout",
     "output_type": "stream",
     "text": [
      "90 : Not a max element in all diagonal elements\n",
      "406 : Max element in all diagonal elements\n",
      "43 : Not a max element in all diagonal elements\n",
      "-100 : Not a max element in all diagonal elements\n",
      "100 : Not a max element in all diagonal elements\n"
     ]
    }
   ],
   "source": [
    "# usinf softmax and diagonal elements try to find out the max element\n",
    "# you are not allowed to use max function\n",
    "# to find index of max element you can use \"argmax()\" function\n",
    "\n",
    "\n",
    "\n",
    "\n",
    "\n",
    "\n",
    "\n",
    "\n",
    "\n"
   ]
  },
  {
   "cell_type": "markdown",
   "metadata": {},
   "source": [
    "What Conclusion could you draw from softmax function?\n",
    "\n",
    "\n",
    "\n",
    "\n",
    "\n"
   ]
  }
 ],
 "metadata": {
  "kernelspec": {
   "display_name": "myenv",
   "language": "python",
   "name": "python3"
  },
  "language_info": {
   "codemirror_mode": {
    "name": "ipython",
    "version": 3
   },
   "file_extension": ".py",
   "mimetype": "text/x-python",
   "name": "python",
   "nbconvert_exporter": "python",
   "pygments_lexer": "ipython3",
   "version": "3.9.19"
  }
 },
 "nbformat": 4,
 "nbformat_minor": 2
}
