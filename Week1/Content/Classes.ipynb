{
  "nbformat": 4,
  "nbformat_minor": 0,
  "metadata": {
    "colab": {
      "name": "Classes.ipynb",
      "provenance": []
    },
    "kernelspec": {
      "name": "python3",
      "display_name": "Python 3"
    },
    "language_info": {
      "name": "python"
    }
  },
  "cells": [
    {
      "cell_type": "markdown",
      "metadata": {
        "id": "BzrbGonBO9F0"
      },
      "source": [
        "# Classes"
      ]
    },
    {
      "cell_type": "markdown",
      "metadata": {
        "id": "9UYqN_XLPA1Y"
      },
      "source": [
        "### Creating a class\n",
        "\n",
        "We will be writing a simple class, **Dog**, that represents a dog—not one dog in particular, but any dog.\n",
        "What do we know about most pet dogs? Well, they all have a name and age.\n",
        "We also know that most dogs sit and roll over. Those two pieces of information\n",
        "(name and age) and those two behaviors (sit and roll over) will go\n",
        "in our **Dog** class because they’re common to most dogs."
      ]
    },
    {
      "cell_type": "code",
      "metadata": {
        "id": "R0UbvaXBOHEy"
      },
      "source": [
        "class Dog():\n",
        "  \"\"\"A simple attempt to model a dog.\"\"\"\n",
        "  \n",
        "  def __init__(self, name, age):\n",
        "    \"\"\"Initialize name and age attributes.\"\"\"\n",
        "    self.name = name\n",
        "    self.age = age\n",
        "\n",
        "  def sit(self):\n",
        "    \"\"\"Simulate a dog sitting in response to a command.\"\"\"\n",
        "    print(self.name.title() + \" is now sitting.\")\n",
        "\n",
        "  def roll_over(self):\n",
        "    \"\"\"Simulate rolling over in response to a command.\"\"\"\n",
        "    print(self.name.title() + \" rolled over!\")"
      ],
      "execution_count": null,
      "outputs": []
    },
    {
      "cell_type": "markdown",
      "metadata": {
        "id": "056DA3E0Pwl3"
      },
      "source": [
        "There’s a lot to notice here, but don’t worry we are going to discuss it all. "
      ]
    },
    {
      "cell_type": "markdown",
      "metadata": {
        "id": "f4zB0tvXP5dW"
      },
      "source": [
        "#### The \\_\\_init__() Method\n",
        "\n",
        "A function that’s part of a class is called a *method*. Everything you learned about\n",
        "functions applies to methods as well; the only practical difference for now is\n",
        "the way we’ll call methods. The \\_\\_init__() method is a special method which\n",
        "Python runs automatically whenever we create a new instance based on the\n",
        "*Dog* class. This type of function is also called a *constructor* in Object Oriented Programming (OOP). We normally use it to initialize all the variables.\n",
        "\n",
        "*Note: This method has two leading underscores and two trailing underscores,\n",
        "a convention that helps prevent Python’s default method names\n",
        "from conflicting with your method names.*\n",
        "\n",
        "#### The self Parameter\n",
        "We define the \\_\\_init__() method to have three parameters: self, name,\n",
        "and age. The *self* parameter is required in the method definition, and it\n",
        "must come first before the other parameters. Every method call associated with a class automatically passes self, which is a reference to the instance itself; it gives the individual instance access to the attributes and methods in the class. This is not just for the \\_\\_init__ method but for all methods as you can see.  \n",
        "\n",
        "The two variables defined in the \\_\\_init__ method, name and age, each have the prefix *self*. Any variable\n",
        "prefixed with self is available to every method in the class, and we’ll also be\n",
        "able to access these variables via any instance created from the class.\n",
        "self.name = name takes the value stored in the *parameter name* and stores it\n",
        "in the *variable name*, which is then attached to the instance being created.\n",
        "The same process happens with self.age = age. Variables that are accessible\n",
        "via instances like this are called *attributes*.\n",
        "\n"
      ]
    },
    {
      "cell_type": "markdown",
      "metadata": {
        "id": "aAOOa446Udxx"
      },
      "source": [
        "The *Dog* class has two other methods defined: sit() and roll_over().\n",
        "Because these methods don’t need additional information like a name\n",
        "or age, we just define them to have one parameter, *self*. The instances will have access to these methods."
      ]
    },
    {
      "cell_type": "markdown",
      "metadata": {
        "id": "Ljjl3kttUuon"
      },
      "source": [
        "## Making an Instance from a Class"
      ]
    },
    {
      "cell_type": "markdown",
      "metadata": {
        "id": "l-49RUJTU88e"
      },
      "source": [
        "Think of a class as a set of instructions for how to make an instance. The\n",
        "class Dog is a set of instructions that tells Python how to make individual\n",
        "instances representing specific dogs.\n",
        "\n",
        "Let’s make an instance representing a specific dog using our Dog class:"
      ]
    },
    {
      "cell_type": "code",
      "metadata": {
        "id": "xyEiGx-wU32R"
      },
      "source": [
        "my_dog = Dog('willie', 6)"
      ],
      "execution_count": null,
      "outputs": []
    },
    {
      "cell_type": "markdown",
      "metadata": {
        "id": "gysNRCdyVOE4"
      },
      "source": [
        "As Python reads this line, it calls the \\_\\_init__() method\n",
        "in *Dog* with the arguments 'willie' and 6. This method creates an\n",
        "instance representing this particular dog and sets the name and age attributes\n",
        "using the values we provided. The instance is stored in the variable my_dog. "
      ]
    },
    {
      "cell_type": "markdown",
      "metadata": {
        "id": "GnIZOsYDWISt"
      },
      "source": [
        "To now access the attributes of an instance we use the dot(.) notation as shown below."
      ]
    },
    {
      "cell_type": "code",
      "metadata": {
        "colab": {
          "base_uri": "https://localhost:8080/"
        },
        "id": "BfqXBD_kV2wA",
        "outputId": "70fb2bd0-ceab-4cf7-f7a1-83c86aa9a0b0"
      },
      "source": [
        "print(\"My dog's name is \" + my_dog.name.title() + \".\")\n",
        "print(\"My dog is \" + str(my_dog.age) + \" years old.\")"
      ],
      "execution_count": null,
      "outputs": [
        {
          "output_type": "stream",
          "text": [
            "My dog's name is Willie.\n",
            "My dog is 6 years old.\n"
          ],
          "name": "stdout"
        }
      ]
    },
    {
      "cell_type": "markdown",
      "metadata": {
        "id": "B23sT8J-WVqz"
      },
      "source": [
        "Here my_dog.name and my_dog.age are used to access the attributes *name* and *age* associated with the instance *my_dog*."
      ]
    },
    {
      "cell_type": "markdown",
      "metadata": {
        "id": "vT4OxK8rW2-C"
      },
      "source": [
        "We can now use the dot(.) notation to\n",
        "call any method defined in the *Dog* class. Let’s make our dog sit and roll over:"
      ]
    },
    {
      "cell_type": "code",
      "metadata": {
        "colab": {
          "base_uri": "https://localhost:8080/"
        },
        "id": "gkAi2fe4XNJp",
        "outputId": "444199a5-2aa7-4d57-f6c4-7c3bc825d5cf"
      },
      "source": [
        "my_dog.sit()\n",
        "my_dog.roll_over()"
      ],
      "execution_count": null,
      "outputs": [
        {
          "output_type": "stream",
          "text": [
            "Willie is now sitting.\n",
            "Willie rolled over!\n"
          ],
          "name": "stdout"
        }
      ]
    },
    {
      "cell_type": "markdown",
      "metadata": {
        "id": "cF6X-eqBXYJt"
      },
      "source": [
        "To call a method, we give the name of the instance (in this case, my_dog)\n",
        "and the method you want to call, separated by a dot."
      ]
    },
    {
      "cell_type": "markdown",
      "metadata": {
        "id": "IxLa8cOOcx4w"
      },
      "source": [
        "You can create as many instances from a class as you need. Let’s create a\n",
        "second dog called your_dog:"
      ]
    },
    {
      "cell_type": "code",
      "metadata": {
        "id": "rfJSDF0vc2C8"
      },
      "source": [
        "your_dog = Dog('lucy', 3)"
      ],
      "execution_count": null,
      "outputs": []
    },
    {
      "cell_type": "markdown",
      "metadata": {
        "id": "gsVma8t2c-fq"
      },
      "source": [
        "We now have two dogs named willie and lucy. Each dog is a separate instance with its own set of attributes but capable of the\n",
        "same set of actions. "
      ]
    },
    {
      "cell_type": "code",
      "metadata": {
        "colab": {
          "base_uri": "https://localhost:8080/"
        },
        "id": "k-AmYsgjdCei",
        "outputId": "092884bc-5052-4b50-c85c-86eb95a8d12f"
      },
      "source": [
        "print(\"My dog's name is \" + my_dog.name.title() + \".\")\n",
        "print(\"My dog is \" + str(my_dog.age) + \" years old.\")\n",
        "my_dog.sit()\n",
        "\n",
        "print(\"\\nYour dog's name is \" + your_dog.name.title() + \".\")\n",
        "print(\"Your dog is \" + str(your_dog.age) + \" years old.\")\n",
        "your_dog.sit()"
      ],
      "execution_count": null,
      "outputs": [
        {
          "output_type": "stream",
          "text": [
            "My dog's name is Willie.\n",
            "My dog is 6 years old.\n",
            "Willie is now sitting.\n",
            "\n",
            "Your dog's name is Lucy.\n",
            "Your dog is 3 years old.\n",
            "Lucy is now sitting.\n"
          ],
          "name": "stdout"
        }
      ]
    },
    {
      "cell_type": "markdown",
      "metadata": {
        "id": "xCDh67KSeAH-"
      },
      "source": [
        "You can make\n",
        "as many instances from one class as you need, as long as you give each\n",
        "instance a unique variable name or it occupies a unique spot in a list or\n",
        "dictionary."
      ]
    },
    {
      "cell_type": "markdown",
      "metadata": {
        "id": "XAFkqfPOXjnd"
      },
      "source": [
        "This syntax is quite useful. When attributes and methods have been\n",
        "given appropriately descriptive names like name, age, sit(), and roll_over(),\n",
        "we can easily infer what a block of code, even one we’ve never seen before,\n",
        "is supposed to do."
      ]
    }
  ]
}
