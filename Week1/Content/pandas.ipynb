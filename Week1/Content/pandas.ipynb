{
  "cells": [
    {
      "cell_type": "markdown",
      "metadata": {
        "id": "-I-LkTrS5Nh5"
      },
      "source": [
        "<div align=\"center\">\n",
        "    <h4>Compiled by: Aniket Yadav and Munish Mongia</h4>\n",
        "</div>\n",
        "\n",
        "## About Pandas\n",
        "Pandas is a powerful and versatile Python library primarily used for data manipulation, analysis, and cleaning. It is particularly well-suited for working with structured and tabular data, making it a valuable tool for a wide range of data-related problems. Here are some common problems that can be solved using Pandas:\n",
        "\n",
        "**Data Cleaning and Preprocessing:**\n",
        "  - Handling missing values: Pandas provides methods to identify, fill, or drop missing data.\n",
        "  - Data transformation: Reformatting data, converting data types, and handling outliers.\n",
        "  - Removing duplicates: Identifying and removing duplicate rows from datasets.\n",
        "  - Data normalization and scaling: Standardizing data for consistent analysis.\n",
        "\n",
        "**Data Analysis and Exploration:**\n",
        "  - Descriptive statistics: Calculating mean, median, mode, variance, and other summary statistics.\n",
        "  - Grouping and aggregation: Grouping data by specific attributes and applying aggregate functions.\n",
        "  - Pivot tables: Creating summary tables for cross-tabulation and analysis.\n",
        "  - Time series analysis: Handling date and time data, resampling, and analyzing trends.\n",
        "\n",
        "**Data Visualization:**\n",
        "  - Plotting and charting: Creating various types of graphs, such as line plots, bar plots, and histograms.\n",
        "  - Exploratory data visualization: Visualizing relationships and patterns in the data.\n",
        "\n",
        "**Data Transformation and Manipulation:**\n",
        "  - Merging and joining: Combining datasets based on common keys or indices.\n",
        "  - Filtering and subsetting: Selecting specific rows or columns based on conditions.\n",
        "  - Applying functions: Applying custom functions to rows, columns, or elements of the data.\n",
        "\n",
        "**Data Input and Output:**\n",
        "  - Reading and writing data: Loading data from various file formats (CSV, Excel, SQL databases) and saving processed data.\n",
        "\n",
        "**Time Series Analysis:**\n",
        "  - Handling time-indexed data: Resampling, shifting, and rolling calculations for time series data.\n",
        "  - Moving averages: Calculating rolling averages and other time-based statistics.\n",
        "\n",
        "**Statistical Analysis and Modeling:**\n",
        "  - Hypothesis testing: Conducting t-tests, ANOVA, and other statistical tests.\n",
        "  - Correlation and regression analysis: Analyzing relationships between variables.\n",
        "  - Feature engineering: Creating new features from existing data for machine learning.\n",
        "\n",
        "**Data Wrangling for Machine Learning:**\n",
        "  - Feature selection: Selecting relevant features for machine learning models.\n",
        "  - Data transformation: Preparing data in the required format for machine learning algorithms.\n",
        "\n",
        "These are just a few examples of the types of problems that Pandas can help solve. Its flexibility and ease of use make it an essential tool for data analysts, scientists, and engineers working with structured data.\n"
      ]
    },
    {
      "cell_type": "markdown",
      "metadata": {},
      "source": [
        "### Installing Pandas\n",
        "You can install Pandas using the following command:"
      ]
    },
    {
      "cell_type": "code",
      "execution_count": null,
      "metadata": {},
      "outputs": [],
      "source": [
        "!pip install pandas"
      ]
    },
    {
      "cell_type": "markdown",
      "metadata": {
        "id": "FJCLzGYU5YUp"
      },
      "source": [
        "### What is a DataFrame, and what is a Series?\n",
        "DataFrames are the workhorse of pandas and are directly inspired by the R programming language. We can think of a DataFrame as a bunch of Series objects put together to share the same index. Let's use pandas to explore this topic!\n",
        "\n",
        "First let us import required libraries (you may need to install other libraries!):"
      ]
    },
    {
      "cell_type": "code",
      "execution_count": null,
      "metadata": {
        "id": "pq9j4TtU5lBj"
      },
      "outputs": [],
      "source": [
        "import pandas as pd                         # import pandas\n",
        "import numpy as np\n",
        "import matplotlib.pyplot as plt\n",
        "import seaborn as sns"
      ]
    },
    {
      "cell_type": "code",
      "execution_count": null,
      "metadata": {
        "id": "tiIDTrTA5oql"
      },
      "outputs": [],
      "source": [
        "from numpy.random import randn\n",
        "np.random.seed(101)"
      ]
    },
    {
      "cell_type": "code",
      "execution_count": null,
      "metadata": {
        "id": "QrfpH16D5q6T"
      },
      "outputs": [],
      "source": [
        "df = pd.DataFrame(randn(5,4),index='A B C D E'.split(),columns='W X Y Z'.split())"
      ]
    },
    {
      "cell_type": "code",
      "execution_count": null,
      "metadata": {
        "colab": {
          "base_uri": "https://localhost:8080/",
          "height": 206
        },
        "id": "v2Tbb0-f5tAu",
        "outputId": "31b59f4c-0560-4976-9324-85387c33bf36"
      },
      "outputs": [],
      "source": [
        "df"
      ]
    },
    {
      "cell_type": "markdown",
      "metadata": {
        "id": "LqaBxBXT5wzO"
      },
      "source": [
        "### Data Manipulation using Pandas: *Indexing, Slicing, Filtering and Combining*"
      ]
    },
    {
      "cell_type": "code",
      "execution_count": null,
      "metadata": {
        "colab": {
          "base_uri": "https://localhost:8080/"
        },
        "id": "0SO4O4b359OL",
        "outputId": "4c686f7e-1a20-43ab-93ff-a8030eb75ed9"
      },
      "outputs": [],
      "source": [
        "df['W']"
      ]
    },
    {
      "cell_type": "code",
      "execution_count": null,
      "metadata": {
        "colab": {
          "base_uri": "https://localhost:8080/",
          "height": 206
        },
        "id": "WWCqgFV_6CxI",
        "outputId": "b7769150-0089-4e19-96c8-43bd32749d53"
      },
      "outputs": [],
      "source": [
        "# Pass a list of column names\n",
        "df[['W','Z']]"
      ]
    },
    {
      "cell_type": "code",
      "execution_count": null,
      "metadata": {
        "colab": {
          "base_uri": "https://localhost:8080/"
        },
        "id": "uj7yteKK6GqY",
        "outputId": "ec4c9253-bef0-4b86-8a26-4e36b0f05e2e"
      },
      "outputs": [],
      "source": [
        "# SQL Syntax (NOT RECOMMENDED!)\n",
        "df.W"
      ]
    },
    {
      "cell_type": "code",
      "execution_count": null,
      "metadata": {
        "colab": {
          "base_uri": "https://localhost:8080/"
        },
        "id": "LvPLIYyA6LkD",
        "outputId": "955d6bf1-396f-4768-9110-8771d60513f4"
      },
      "outputs": [],
      "source": [
        "# Dataframe columns are just series\n",
        "type(df['W'])"
      ]
    },
    {
      "cell_type": "code",
      "execution_count": null,
      "metadata": {
        "id": "qiwq0zSw6PTn"
      },
      "outputs": [],
      "source": [
        "# Creating new column\n",
        "df['new'] = df['W'] + df['Y']"
      ]
    },
    {
      "cell_type": "code",
      "execution_count": null,
      "metadata": {
        "colab": {
          "base_uri": "https://localhost:8080/",
          "height": 206
        },
        "id": "fQeZkMDc6THl",
        "outputId": "5df32d69-e57f-468a-85b8-63e1d47255a7"
      },
      "outputs": [],
      "source": [
        "df"
      ]
    },
    {
      "cell_type": "code",
      "execution_count": null,
      "metadata": {
        "colab": {
          "base_uri": "https://localhost:8080/",
          "height": 206
        },
        "id": "gV-4NDU26ZIh",
        "outputId": "fc056224-ea06-42b1-ad69-3f28c9af1a89"
      },
      "outputs": [],
      "source": [
        "# Removing a column\n",
        "df.drop('new',axis=1)\n",
        "df"
      ]
    },
    {
      "cell_type": "code",
      "execution_count": null,
      "metadata": {},
      "outputs": [],
      "source": [
        "# Why did the above not work?\n",
        "# ... it worked, but a new copy of df was created by default ..."
      ]
    },
    {
      "cell_type": "code",
      "execution_count": null,
      "metadata": {
        "colab": {
          "base_uri": "https://localhost:8080/",
          "height": 206
        },
        "id": "4t3-TkG560V3",
        "outputId": "164c7dff-8464-427d-cf1c-1ae584ae099a"
      },
      "outputs": [],
      "source": [
        "# However, if we want to drop a column without creating a copy, we can use \"inplace\" as shown below\n",
        "df.drop('new',axis=1,inplace=True)\n",
        "df"
      ]
    },
    {
      "cell_type": "code",
      "execution_count": null,
      "metadata": {
        "colab": {
          "base_uri": "https://localhost:8080/",
          "height": 175
        },
        "id": "gmeXZ9KA68LR",
        "outputId": "387e2f18-418e-47a5-d921-1137ea3c9023"
      },
      "outputs": [],
      "source": [
        "# Can also drop rows\n",
        "df.drop('E',axis=0, inplace=True)\n",
        "df"
      ]
    },
    {
      "cell_type": "code",
      "execution_count": null,
      "metadata": {
        "colab": {
          "base_uri": "https://localhost:8080/"
        },
        "id": "MpgR1JuP7IqJ",
        "outputId": "4947ed13-f5a6-445f-edac-a3278d5eb36a"
      },
      "outputs": [],
      "source": [
        "# Selecting rows\n",
        "df.loc['A']"
      ]
    },
    {
      "cell_type": "code",
      "execution_count": null,
      "metadata": {
        "colab": {
          "base_uri": "https://localhost:8080/"
        },
        "id": "wVX_q2PL7M5_",
        "outputId": "a90b9e33-9dbd-4aa8-d7cf-86c1fe060e71"
      },
      "outputs": [],
      "source": [
        "# Or select based on the row position instead of label (Note: row numbering starts at '0')\n",
        "# The following statement selects the third row\n",
        "df.iloc[2]"
      ]
    },
    {
      "cell_type": "code",
      "execution_count": null,
      "metadata": {
        "colab": {
          "base_uri": "https://localhost:8080/"
        },
        "id": "WlB3iNmZ7S6A",
        "outputId": "aeecc15b-3540-480d-9f8e-b40f65258972"
      },
      "outputs": [],
      "source": [
        "# Selecting subset of rows and columns\n",
        "df.loc['B','Y']"
      ]
    },
    {
      "cell_type": "code",
      "execution_count": null,
      "metadata": {
        "colab": {
          "base_uri": "https://localhost:8080/",
          "height": 112
        },
        "id": "qVpLpe9l7ar0",
        "outputId": "a3e086b8-5593-46f2-8cc5-a5a9bab12c80"
      },
      "outputs": [],
      "source": [
        "df.loc[['A','B'],['W','Y']]"
      ]
    },
    {
      "cell_type": "markdown",
      "metadata": {
        "id": "zmWVYK_SQMgw"
      },
      "source": [
        "**Questions:**\n",
        "> *Answer the following questions in the cell(s) provided below. For theory questions, you can write your answer in the cell as a comment. You can add more cells also.*\n",
        "1. How would you extract the first three rows of a DataFrame using indexing and slicing? Form a sample dataset and extract the first three rows of a DataFrame using indexing and slicing"
      ]
    },
    {
      "cell_type": "code",
      "execution_count": null,
      "metadata": {},
      "outputs": [],
      "source": [
        "### YOUR CODE HERE ###"
      ]
    },
    {
      "cell_type": "markdown",
      "metadata": {
        "id": "tN5KullW7dOA"
      },
      "source": [
        "### Data Analysis using Pandas: *Merging, Grouping, Descriptive statistics, Data Visualization*\n",
        "#### Merging\n",
        "The **merge** function allows you to merge DataFrames together using a similar logic as merging SQL Tables together. For example:"
      ]
    },
    {
      "cell_type": "code",
      "execution_count": null,
      "metadata": {
        "id": "eyH_jQCt-uHU"
      },
      "outputs": [],
      "source": [
        "left = pd.DataFrame({'key': ['K0', 'K1', 'K2', 'K3'],\n",
        "                     'A': ['A0', 'A1', 'A2', 'A3'],\n",
        "                     'B': ['B0', 'B1', 'B2', 'B3']})\n",
        "\n",
        "right = pd.DataFrame({'key': ['K0', 'K1', 'K2', 'K3'],\n",
        "                          'C': ['C0', 'C1', 'C2', 'C3'],\n",
        "                          'D': ['D0', 'D1', 'D2', 'D3']})"
      ]
    },
    {
      "cell_type": "code",
      "execution_count": null,
      "metadata": {
        "colab": {
          "base_uri": "https://localhost:8080/",
          "height": 175
        },
        "id": "ecOhUA4y-7bu",
        "outputId": "a8c76723-73fd-4712-d997-c734cc3e6fa5"
      },
      "outputs": [],
      "source": [
        "left"
      ]
    },
    {
      "cell_type": "code",
      "execution_count": null,
      "metadata": {
        "colab": {
          "base_uri": "https://localhost:8080/",
          "height": 175
        },
        "id": "CE0nM82f--bc",
        "outputId": "c97a65ed-5d64-4bf2-8dc8-fe616f1091f4"
      },
      "outputs": [],
      "source": [
        "right"
      ]
    },
    {
      "cell_type": "code",
      "execution_count": null,
      "metadata": {
        "colab": {
          "base_uri": "https://localhost:8080/",
          "height": 175
        },
        "id": "mtI3Ocbg-u59",
        "outputId": "8f95a1e3-f1c8-4b05-e99c-7b14fc90bb70"
      },
      "outputs": [],
      "source": [
        "pd.merge(left,right,how='inner',on='key')"
      ]
    },
    {
      "cell_type": "markdown",
      "metadata": {},
      "source": [
        "**Questions:**\n",
        "> *Answer the following questions in the cell(s) provided below. For theory questions, you can write your answer in the cell as a comment. You can add more cells also.*\n",
        "2. Merge the following:\n",
        "```python\n",
        "   left = pd.DataFrame({'key1': ['K0', 'K0', 'K1', 'K2'],\n",
        "                        'key2': ['K0', 'K1', 'K0', 'K1'],\n",
        "                        'A': ['A0', 'A1', 'A2', 'A3'],\n",
        "                        'B': ['B0', 'B1', 'B2', 'B3']})\n",
        "\n",
        "   right = pd.DataFrame({'key1': ['K0', 'K1', 'K1', 'K2'],\n",
        "                        'key2': ['K0', 'K0', 'K0', 'K0'],\n",
        "                        'C': ['C0', 'C1', 'C2', 'C3'],\n",
        "                        'D': ['D0', 'D1', 'D2', 'D3']})\n",
        "```\n",
        "3. Describe the differences between the `merge()` and `concat()` functions in Pandas when it comes to combining multiple DataFrames. Read about `concat()` function [here](https://pandas.pydata.org/docs/reference/api/pandas.concat.html)"
      ]
    },
    {
      "cell_type": "code",
      "execution_count": null,
      "metadata": {},
      "outputs": [],
      "source": [
        "### YOUR CODE HERE ###"
      ]
    },
    {
      "cell_type": "markdown",
      "metadata": {
        "id": "WJM7202__OkO"
      },
      "source": [
        "#### Grouping\n",
        "The `groupby` method allows you to group rows of data together and call aggregate functions"
      ]
    },
    {
      "cell_type": "code",
      "execution_count": null,
      "metadata": {
        "colab": {
          "base_uri": "https://localhost:8080/"
        },
        "id": "LS7zg-OH_Yo6",
        "outputId": "97a52ebf-48da-4b2d-a6c8-de87d9f41637"
      },
      "outputs": [],
      "source": [
        "# Create dataframe\n",
        "df = pd.DataFrame({'team': ['A', 'A', 'A', 'A', 'B', 'B', 'B', 'B'],\n",
        "                   'position': ['G', 'F', 'F', 'G', 'F', 'F', 'G', 'G'],\n",
        "                   'points': [30, 22, 19, 14, 14, 11, 20, 28],\n",
        "                   'assists': [4, 3, 7, 7, 12, 15, 8, 4]})\n",
        "print(df)"
      ]
    },
    {
      "cell_type": "code",
      "execution_count": null,
      "metadata": {
        "id": "KELXHZ9V_hLK"
      },
      "outputs": [],
      "source": [
        "by_team=df.groupby('team')"
      ]
    },
    {
      "cell_type": "markdown",
      "metadata": {
        "id": "LbJ8-tqP_nvk"
      },
      "source": [
        "Now you can use the .`groupby()` method to group rows together based on a column name. For instance let's group based on Team. This will create a DataFrameGroupBy object:"
      ]
    },
    {
      "cell_type": "markdown",
      "metadata": {
        "id": "Qc1Q2SEgBPf4"
      },
      "source": [
        "#### Descriptive Statistics on grouped data"
      ]
    },
    {
      "cell_type": "code",
      "execution_count": null,
      "metadata": {
        "colab": {
          "base_uri": "https://localhost:8080/",
          "height": 231
        },
        "id": "zCNShHSd_6m0",
        "outputId": "f2cbed84-7a24-4e68-9e04-70587cecd9e9"
      },
      "outputs": [],
      "source": [
        "df = pd.DataFrame({'team': ['A', 'A', 'A', 'A', 'B', 'B', 'B', 'B'],\n",
        "                   'position': ['G', 'F', 'F', 'G', 'F', 'F', 'G', 'G'],\n",
        "                   'points': [30, 22, 19, 14, 14, 11, 20, 28],\n",
        "                   'assists': [4, 3, 7, 7, 12, 15, 8, 4]})\n",
        "print(df)\n",
        "by_team=df.groupby('team')\n",
        "print(by_team['points'].mean())"
      ]
    },
    {
      "cell_type": "code",
      "execution_count": null,
      "metadata": {},
      "outputs": [],
      "source": [
        "df.groupby('team')['points'].mean()"
      ]
    },
    {
      "cell_type": "code",
      "execution_count": null,
      "metadata": {
        "colab": {
          "base_uri": "https://localhost:8080/",
          "height": 231
        },
        "id": "E38qE-IB_9vQ",
        "outputId": "5c9620fe-3f41-4e26-9836-be65e26a4fee"
      },
      "outputs": [],
      "source": [
        "by_team['points'].std()"
      ]
    },
    {
      "cell_type": "code",
      "execution_count": null,
      "metadata": {
        "colab": {
          "base_uri": "https://localhost:8080/",
          "height": 231
        },
        "id": "n4oYS8y3AVcS",
        "outputId": "bce9a27b-f6e9-49dc-95ae-d52de8ab3d72"
      },
      "outputs": [],
      "source": [
        "by_team['points'].min()"
      ]
    },
    {
      "cell_type": "code",
      "execution_count": null,
      "metadata": {
        "colab": {
          "base_uri": "https://localhost:8080/",
          "height": 175
        },
        "id": "p6RrGrUgAgLd",
        "outputId": "4e783091-f286-4bfb-df50-0a71cfb72343"
      },
      "outputs": [],
      "source": [
        "by_team['points'].max()"
      ]
    },
    {
      "cell_type": "code",
      "execution_count": null,
      "metadata": {
        "colab": {
          "base_uri": "https://localhost:8080/",
          "height": 175
        },
        "id": "tMFKOsmoAic2",
        "outputId": "cdcd0b24-5999-4a1d-bf68-0d7aa5acd668"
      },
      "outputs": [],
      "source": [
        "by_team.count()"
      ]
    },
    {
      "cell_type": "code",
      "execution_count": null,
      "metadata": {
        "colab": {
          "base_uri": "https://localhost:8080/",
          "height": 175
        },
        "id": "YEhWffudAkt6",
        "outputId": "9b3677a2-9494-4613-a6f7-9f35e9319030"
      },
      "outputs": [],
      "source": [
        "by_team.describe()"
      ]
    },
    {
      "cell_type": "markdown",
      "metadata": {
        "id": "_USYj7G-RgST"
      },
      "source": [
        "**Questions:**\n",
        "> *Answer the following questions in the cell(s) provided below. For theory questions, you can write your answer in the cell as a comment. You can add more cells also.*\n",
        "4. For the DataFrame named sales_data given below containing information about sales transactions, including columns \"product\", \"category\", and \"sales_amount\", write a code snippet to group the data by \"category\" and calculate the total sales amount for each category.\n",
        "```python\n",
        "   data = {'product': ['A', 'B', 'A', 'C', 'B', 'C', 'A', 'B'],\n",
        "           'category': ['X', 'Y', 'X', 'Z', 'Y', 'Z', 'X', 'Y'],\n",
        "           'sales_amount': [100, 150, 120, 80, 200, 90, 110, 180]}\n",
        "\n",
        "   sales_data = pd.DataFrame(data)\n",
        "   sales_data\n",
        "```\n",
        "\n",
        "5. For the DataFrame named employee_data given below which contains employee information including \"department\", \"salary\", and \"gender\", write a code snippet to group the data by \"department\" and calculate both the average salary and the maximum salary for each department.\n",
        "```python\n",
        "   data = {'department': ['HR', 'Engineering', 'Engineering', 'HR', 'Finance', 'Finance', 'Engineering', 'HR'],\n",
        "           'salary': [60000, 75000, 80000, 65000, 70000, 72000, 77000, 62000],\n",
        "           'gender': ['Male', 'Female', 'Male', 'Female', 'Male', 'Female', 'Male', 'Female']}\n",
        "\n",
        "   employee_data = pd.DataFrame(data)\n",
        "   employee_data\n",
        "```"
      ]
    },
    {
      "cell_type": "code",
      "execution_count": null,
      "metadata": {},
      "outputs": [],
      "source": [
        "### YOUR CODE HERE ###"
      ]
    },
    {
      "cell_type": "markdown",
      "metadata": {
        "id": "qubyaNSyCAvk"
      },
      "source": [
        "### Data Visualization using Pandas"
      ]
    },
    {
      "cell_type": "markdown",
      "metadata": {
        "id": "SV2_NiAQXZGK"
      },
      "source": [
        "#### Line Plot"
      ]
    },
    {
      "cell_type": "code",
      "execution_count": null,
      "metadata": {
        "colab": {
          "base_uri": "https://localhost:8080/",
          "height": 472
        },
        "id": "2fF4bJzKAo70",
        "outputId": "e79decd8-2439-4347-e825-6b187bef1d35"
      },
      "outputs": [],
      "source": [
        "# Create a DataFrame\n",
        "data = {'Year': [2010, 2011, 2012, 2013, 2014],\n",
        "        'Revenue': [50000, 55000, 60000, 62000, 65000]}\n",
        "\n",
        "df = pd.DataFrame(data)\n",
        "\n",
        "# Create a line plot\n",
        "plt.plot(df['Year'], df['Revenue'], marker='o')\n",
        "plt.title('Revenue Over Years')\n",
        "plt.xlabel('Year')\n",
        "plt.ylabel('Revenue ($)')\n",
        "plt.grid(True)\n",
        "plt.show()"
      ]
    },
    {
      "cell_type": "markdown",
      "metadata": {
        "id": "EXfKkvRlPSGG"
      },
      "source": [
        "**Questions:**\n",
        "> *Answer the following questions in the cell(s) provided below. For theory questions, you can write your answer in the cell as a comment. You can add more cells also.*\n",
        "6. Explain how do line plots help in understanding relationships between variables? Describe a scenario where pair-wise plots might not be the most suitable visualization technique, and suggest an alternative method.\n"
      ]
    },
    {
      "cell_type": "code",
      "execution_count": null,
      "metadata": {},
      "outputs": [],
      "source": [
        "### YOUR CODE HERE ###"
      ]
    },
    {
      "cell_type": "markdown",
      "metadata": {
        "id": "Cm2jXgu4Xilk"
      },
      "source": [
        "#### Bar Plot"
      ]
    },
    {
      "cell_type": "code",
      "execution_count": null,
      "metadata": {
        "colab": {
          "base_uri": "https://localhost:8080/",
          "height": 526
        },
        "id": "89cwwHNuCNOC",
        "outputId": "cb090ea8-d96a-4483-85c7-e2202e391a04"
      },
      "outputs": [],
      "source": [
        "# Create a DataFrame\n",
        "data = {'City': ['New York', 'Los Angeles', 'Chicago', 'Houston', 'Phoenix'],\n",
        "        'Population': [8398748, 3990456, 2716000, 2320268, 1680992]}\n",
        "\n",
        "df = pd.DataFrame(data)\n",
        "\n",
        "# Create a bar plot\n",
        "plt.bar(df['City'], df['Population'])\n",
        "plt.title('Population of Cities')\n",
        "plt.xlabel('City')\n",
        "plt.ylabel('Population')\n",
        "plt.xticks(rotation=45)\n",
        "plt.show()"
      ]
    },
    {
      "cell_type": "markdown",
      "metadata": {
        "id": "G__Ga2oqXnBO"
      },
      "source": [
        "#### Histogram"
      ]
    },
    {
      "cell_type": "code",
      "execution_count": null,
      "metadata": {
        "colab": {
          "base_uri": "https://localhost:8080/",
          "height": 472
        },
        "id": "XXEKz9lTCTJs",
        "outputId": "223fb363-167e-474c-ace5-a9d8c68891b1"
      },
      "outputs": [],
      "source": [
        "# Create a DataFrame\n",
        "data = {'Scores': [85, 92, 78, 95, 88, 76, 89, 91, 83, 87]}\n",
        "\n",
        "df = pd.DataFrame(data)\n",
        "\n",
        "# Create a histogram\n",
        "plt.hist(df['Scores'], bins=10, edgecolor='black')\n",
        "plt.title('Student Scores Distribution')\n",
        "plt.xlabel('Scores')\n",
        "plt.ylabel('Frequency')\n",
        "plt.show()"
      ]
    },
    {
      "cell_type": "markdown",
      "metadata": {
        "id": "qlkEfBQjXpW4"
      },
      "source": [
        "#### Scatter Plot"
      ]
    },
    {
      "cell_type": "code",
      "execution_count": null,
      "metadata": {
        "colab": {
          "base_uri": "https://localhost:8080/",
          "height": 472
        },
        "id": "09wyKnq5CYRW",
        "outputId": "9cd40351-deab-47cd-e984-8653b39e1b49"
      },
      "outputs": [],
      "source": [
        "# Create a DataFrame\n",
        "data = {'Height': [165, 170, 155, 180, 160, 175],\n",
        "        'Weight': [60, 70, 50, 85, 55, 68]}\n",
        "\n",
        "df = pd.DataFrame(data)\n",
        "\n",
        "# Create a scatter plot\n",
        "plt.scatter(df['Height'], df['Weight'], color='blue')\n",
        "plt.title('Height vs. Weight')\n",
        "plt.xlabel('Height (cm)')\n",
        "plt.ylabel('Weight (kg)')\n",
        "plt.grid(True)\n",
        "plt.show()"
      ]
    },
    {
      "cell_type": "markdown",
      "metadata": {
        "id": "tbl5MeaiXvCh"
      },
      "source": [
        "### Box Plot\n",
        "- Read about Box Plot [here](https://builtin.com/data-science/boxplot)"
      ]
    },
    {
      "cell_type": "code",
      "execution_count": null,
      "metadata": {
        "colab": {
          "base_uri": "https://localhost:8080/",
          "height": 452
        },
        "id": "XL8O_2YFCcPc",
        "outputId": "afbe8da9-8d42-4a0a-eb47-8089221a59ba"
      },
      "outputs": [],
      "source": [
        "# Create a DataFrame\n",
        "data = {'Category': ['A', 'B', 'A', 'C', 'B', 'C', 'A', 'B'],\n",
        "        'Value': [10, 20, 15, 5, 25, 8, 12, 18]}\n",
        "\n",
        "df = pd.DataFrame(data)\n",
        "\n",
        "# Create a box plot\n",
        "plt.boxplot([df[df['Category'] == 'A']['Value'],\n",
        "             df[df['Category'] == 'B']['Value'],\n",
        "             df[df['Category'] == 'C']['Value']],\n",
        "            labels=['A', 'B', 'C'])\n",
        "plt.title('Value Distribution by Category')\n",
        "plt.ylabel('Value')\n",
        "plt.show()"
      ]
    },
    {
      "cell_type": "markdown",
      "metadata": {
        "id": "wZiuAi-iTzh3"
      },
      "source": [
        "**Questions:**\n",
        "> *Answer the following questions in the cell(s) provided below. For theory questions, you can write your answer in the cell as a comment. You can add more cells also.*\n",
        "\n",
        "7. On the dataset given below do the following:\n",
        "   - Create a line plot to visualize the trend of math scores over the five students.\n",
        "   - Generate a bar plot that shows the average reading scores for each student.\n",
        "   - Create a histogram to visualize the distribution of ages among the students.\n",
        "   - Produce a scatter plot to explore the relationship between math and science scores.\n",
        "   - Design a box plot to visualize the spread of reading scores across students.\n",
        "   - Create a pie chart to represent the proportion of students within different age groups (e.g., 18-19, 20-21). (read about pie chart [here](https://pandas.pydata.org/docs/reference/api/pandas.DataFrame.plot.pie.html))\n",
        "   - Generate a heatmap to show the correlation between different subjects' scores.\n",
        "```python\n",
        "   data = {'Name': ['Alice', 'Bob', 'Charlie', 'David', 'Eve'],\n",
        "           'Age': [18, 20, 19, 21, 18],\n",
        "           'Math Score': [85, 92, 78, 95, 88],\n",
        "           'Reading Score': [90, 88, 75, 82, 95],\n",
        "           'Science Score': [92, 87, 80, 89, 78]}\n",
        "   student_df = pd.DataFrame(data)\n",
        "   student_df\n",
        "```"
      ]
    },
    {
      "cell_type": "code",
      "execution_count": null,
      "metadata": {},
      "outputs": [],
      "source": [
        "### YOUR CODE HERE ###"
      ]
    },
    {
      "cell_type": "markdown",
      "metadata": {
        "id": "UPQZQ0e7ZGk0"
      },
      "source": [
        "### Pair Wise Plots"
      ]
    },
    {
      "cell_type": "code",
      "execution_count": null,
      "metadata": {
        "colab": {
          "base_uri": "https://localhost:8080/",
          "height": 1000
        },
        "id": "rG-hRXW-CfLd",
        "outputId": "21cd80b2-a5a3-41a8-fc86-2b3f00356d4f"
      },
      "outputs": [],
      "source": [
        "# Load a dataset\n",
        "iris = sns.load_dataset('iris')\n",
        "\n",
        "# Create pair-wise plots\n",
        "sns.pairplot(iris, hue='species')\n",
        "plt.show()"
      ]
    },
    {
      "cell_type": "markdown",
      "metadata": {},
      "source": [
        "Read more about Data visualization using pandas [here](https://pandas.pydata.org/docs/user_guide/visualization.html)"
      ]
    },
    {
      "cell_type": "markdown",
      "metadata": {
        "id": "8StjqnPjZQEB"
      },
      "source": [
        "### Correlation Analysis"
      ]
    },
    {
      "cell_type": "code",
      "execution_count": null,
      "metadata": {
        "colab": {
          "base_uri": "https://localhost:8080/",
          "height": 508
        },
        "id": "jYgGJSQPDbnD",
        "outputId": "8deed4c4-fac7-4d9e-e7e1-70f471004c74"
      },
      "outputs": [],
      "source": [
        "# Load a dataset\n",
        "iris = sns.load_dataset('iris')\n",
        "\n",
        "# Calculate correlation matrix\n",
        "correlation_matrix = iris.corr(numeric_only=True)\n",
        "\n",
        "# Create a heatmap of correlations\n",
        "sns.heatmap(correlation_matrix, annot=True, cmap='coolwarm')\n",
        "plt.title('Correlation Heatmap')\n",
        "plt.show()"
      ]
    },
    {
      "cell_type": "markdown",
      "metadata": {},
      "source": [
        "### Feature Selection"
      ]
    },
    {
      "cell_type": "code",
      "execution_count": null,
      "metadata": {
        "colab": {
          "base_uri": "https://localhost:8080/"
        },
        "id": "SwJHUZTGDmbf",
        "outputId": "14fdf437-0457-4fa0-cfb3-56821d9b8fd8"
      },
      "outputs": [],
      "source": [
        "from sklearn.feature_selection import SelectKBest\n",
        "from sklearn.feature_selection import f_classif\n",
        "\n",
        "# Load a dataset\n",
        "iris = sns.load_dataset('iris')\n",
        "\n",
        "# Separate features and target\n",
        "X = iris.drop('species', axis=1)\n",
        "y = iris['species']\n",
        "\n",
        "# Perform feature selection using SelectKBest\n",
        "selector = SelectKBest(score_func=f_classif, k=2)\n",
        "X_new = selector.fit_transform(X, y)\n",
        "\n",
        "# Get selected features\n",
        "selected_features = X.columns[selector.get_support()]\n",
        "\n",
        "print('Selected Features:', selected_features)"
      ]
    },
    {
      "cell_type": "markdown",
      "metadata": {
        "id": "MbdT38qaaP-x"
      },
      "source": [
        "The technique used here is SelectKBest. Read more about it [here](https://scikit-learn.org/stable/modules/generated/sklearn.feature_selection.SelectKBest.html#sklearn.feature_selection.SelectKBest)\n",
        "\n",
        "To read more ways of Feature Selection refer [here](https://scikit-learn.org/stable/modules/feature_selection.html)"
      ]
    },
    {
      "cell_type": "markdown",
      "metadata": {
        "id": "McAxD_LTyN0f"
      },
      "source": [
        "### Data Cleaning"
      ]
    },
    {
      "cell_type": "code",
      "execution_count": null,
      "metadata": {
        "colab": {
          "base_uri": "https://localhost:8080/"
        },
        "id": "Ubz3-NeJDsht",
        "outputId": "899afb7d-35c7-4f9f-a56f-78aba80661f8"
      },
      "outputs": [],
      "source": [
        "# Sample data with missing values\n",
        "data = {'Name': ['Alice', 'Bob', 'Charlie', 'David', 'Eve', \"Alice\"],\n",
        "        'Age': [25, None, 30, 28, 22, 25],\n",
        "        'Salary': [50000, 60000, None, 55000, 45000, 50000]}\n",
        "\n",
        "df = pd.DataFrame(data)\n",
        "print(\"Original Dataset:\")\n",
        "print(df)\n",
        "# Handling missing values\n",
        "df['Age'].fillna(df['Age'].median(), inplace=True)\n",
        "df['Salary'].fillna(df['Salary'].mean(), inplace=True)\n",
        "\n",
        "\n",
        "# Drop duplicates\n",
        "df.drop_duplicates(inplace=True)\n",
        "\n",
        "print(\"\\nDataset after data cleaning Duplicates:\")\n",
        "print(df)"
      ]
    },
    {
      "cell_type": "markdown",
      "metadata": {
        "id": "JLbZEsUdyB8v"
      },
      "source": [
        "### Outlier Detection"
      ]
    },
    {
      "cell_type": "code",
      "execution_count": null,
      "metadata": {
        "colab": {
          "base_uri": "https://localhost:8080/"
        },
        "id": "Zkix7sN4wsfp",
        "outputId": "e5d16177-95aa-4803-c772-4f202d7abf1a"
      },
      "outputs": [],
      "source": [
        "# Create a sample dataset with outliers\n",
        "np.random.seed(42)\n",
        "data = {'Value': np.concatenate((np.random.normal(10, 2, 100), [100, 200, 300]))}\n",
        "df = pd.DataFrame(data)\n",
        "\n",
        "# Detect and handle outliers\n",
        "Q1 = df['Value'].quantile(0.25)\n",
        "Q3 = df['Value'].quantile(0.75)\n",
        "IQR = Q3 - Q1\n",
        "\n",
        "lower_bound = Q1 - 1.5 * IQR\n",
        "upper_bound = Q3 + 1.5 * IQR\n",
        "\n",
        "# Remove outliers\n",
        "df_cleaned = df[(df['Value'] >= lower_bound) & (df['Value'] <= upper_bound)]\n",
        "\n",
        "print(\"Original Dataset:\")\n",
        "print(df)\n",
        "\n",
        "print(\"\\nCleaned Dataset after Outlier Removal:\")\n",
        "print(df_cleaned)"
      ]
    },
    {
      "cell_type": "markdown",
      "metadata": {},
      "source": [
        "### File I/O using PANDAS"
      ]
    },
    {
      "cell_type": "code",
      "execution_count": null,
      "metadata": {},
      "outputs": [],
      "source": [
        "# Read an Excel file into a DataFrame\n",
        "df = pd.read_csv('gender-age-height-weight.csv')\n",
        "df.head()"
      ]
    },
    {
      "cell_type": "code",
      "execution_count": null,
      "metadata": {},
      "outputs": [],
      "source": [
        "# Convert the AgeYears and AgeMonths columns to float\n",
        "df['FinalAge'] = df['AgeYears'] + df['AgeMonths'] / 12"
      ]
    },
    {
      "cell_type": "code",
      "execution_count": null,
      "metadata": {},
      "outputs": [],
      "source": [
        "df.head()"
      ]
    },
    {
      "cell_type": "code",
      "execution_count": null,
      "metadata": {},
      "outputs": [],
      "source": [
        "# Perform one-hot encoding on the Gender column\n",
        "df_encoded = pd.get_dummies(df, columns=['Gender'])"
      ]
    },
    {
      "cell_type": "code",
      "execution_count": null,
      "metadata": {},
      "outputs": [],
      "source": [
        "# Write the encoded data into a new csv file\n",
        "df_encoded.to_csv('gender-age-height-weight-encoded.csv', index=False)"
      ]
    },
    {
      "cell_type": "code",
      "execution_count": null,
      "metadata": {},
      "outputs": [],
      "source": [
        "# The above sections and functions are but a very small, but functional, subset of the pandas library\n",
        "# Feel free to explore more by visiting the pandas documentation at https://pandas.pydata.org"
      ]
    }
  ],
  "metadata": {
    "colab": {
      "provenance": []
    },
    "kernelspec": {
      "display_name": "Python 3",
      "name": "python3"
    },
    "language_info": {
      "codemirror_mode": {
        "name": "ipython",
        "version": 3
      },
      "file_extension": ".py",
      "mimetype": "text/x-python",
      "name": "python",
      "nbconvert_exporter": "python",
      "pygments_lexer": "ipython3",
      "version": "3.10.12"
    }
  },
  "nbformat": 4,
  "nbformat_minor": 0
}
