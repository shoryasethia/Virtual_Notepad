{
 "cells": [
  {
   "cell_type": "code",
   "execution_count": 1,
   "metadata": {},
   "outputs": [
    {
     "name": "stdout",
     "output_type": "stream",
     "text": [
      "The most favored value is: apple\n"
     ]
    }
   ],
   "source": [
    "from collections import Counter\n",
    "\n",
    "# Sample values for a, b, and c\n",
    "a = 'apple'\n",
    "b = 'banana'\n",
    "c = 'apple'\n",
    "\n",
    "# Create a list of the variables\n",
    "votes = [a, b, c]\n",
    "\n",
    "# Use Counter to count the occurrences of each value\n",
    "vote_counts = Counter(votes)\n",
    "\n",
    "# Find the most common value\n",
    "most_common_value, count = vote_counts.most_common(1)[0]\n",
    "\n",
    "# Print the most favored value\n",
    "print(f\"The most favored value is: {most_common_value}\")\n"
   ]
  }
 ],
 "metadata": {
  "kernelspec": {
   "display_name": "myenv",
   "language": "python",
   "name": "python3"
  },
  "language_info": {
   "codemirror_mode": {
    "name": "ipython",
    "version": 3
   },
   "file_extension": ".py",
   "mimetype": "text/x-python",
   "name": "python",
   "nbconvert_exporter": "python",
   "pygments_lexer": "ipython3",
   "version": "3.9.19"
  }
 },
 "nbformat": 4,
 "nbformat_minor": 2
}
