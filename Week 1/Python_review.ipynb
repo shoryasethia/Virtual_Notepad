{
  "cells": [
    {
      "cell_type": "markdown",
      "metadata": {
        "id": "1WS12YGAkm0i"
      },
      "source": [
        "# Revising Basics of Python\n",
        "This notebook goes through some basic and essential concepts of python in a concise manner. People who already have knowledge about python and are just looking to revise and brush up their concepts can go through this.\n",
        "\n",
        "*If you find it hard to grasp any concept you can look for that topic in the [week-1 resources](https://github.com/wncc/TSS-2021/tree/main/Python%20%26%20its%20Applications/Week-1) of this course for a more detailed explanation.*"
      ]
    },
    {
      "cell_type": "markdown",
      "metadata": {
        "id": "j14ZT98oVSuy"
      },
      "source": [
        "## Data Types and Data Structures\n",
        "\n",
        "Python has all the primitive Data Types you would be familiary with. It has integers, floats, strings and Booleans! With slight changes in the way you express them. A great thing about Integers in Python is that there are no restrictions on the number of bits they could take"
      ]
    },
    {
      "cell_type": "code",
      "execution_count": null,
      "metadata": {
        "id": "lQP6fdJfWajD"
      },
      "outputs": [],
      "source": [
        "X = 5\n",
        "Y  = 10 \n",
        "\n",
        "#print ('Some String'/Int/Float) is used to to print anything to the screen\n",
        "print(type(X))\n",
        "print(type(Y))\n",
        "\n",
        "X = 10.5\n",
        "\n",
        "# This is how you comment in Python, using a '#'\n",
        "\n",
        "#Demonstrating the unbounded nature of Integers in Python\n",
        "\n",
        "print(type(X))\n",
        "Y = 9999999999999999999999999999999999999999999999999999999999999999999999999999999999999999999999999999999999999999999999999999999999999999999999999999999999999999999999999999999999999999\n",
        "print(type(Y))\n",
        "\n",
        "X = True\n",
        "Y = False\n",
        "\n",
        "print(type(X))\n",
        "print(type(Y))\n",
        "\n",
        "S = \"My name is Shikhar!\"\n",
        "print(type(S))"
      ]
    },
    {
      "cell_type": "markdown",
      "metadata": {
        "id": "tiEtMHLKXPwq"
      },
      "source": [
        "Python also provides you with container data structures like tuple, list and dictionaries. \n",
        "\n",
        "Tuples are immutable containers (once set, they can't be modified), whereas lists are mutable, much like Arrays in C++, Java.\n",
        "\n",
        "Dictionaries on the other hand are Hashmaps. They are used to store key-value pairings."
      ]
    },
    {
      "cell_type": "code",
      "execution_count": null,
      "metadata": {
        "id": "iJjjyh5-YaPW"
      },
      "outputs": [],
      "source": [
        "#Lists\n",
        "L = [1,2,3,4,5,6,7,8]\n",
        "print(L)\n",
        "print(len(L))\n",
        "print(type(L))\n",
        "\n",
        "#Add Another Element to a list\n",
        "L.append(9)\n",
        "print(L)\n",
        "\n",
        "#List Slicing, Range Indexing\n",
        "print(L[2:])\n",
        "print(L[:5])\n",
        "print(L[2:4])\n",
        "\n",
        "#Indexing and Changing an element\n",
        "L[2] = 20\n",
        "print(L)\n",
        "\n",
        "#Range Indexing and Modifying\n",
        "L[2:4] = [50,60]\n",
        "print(L)\n",
        "\n",
        "L = (1,2,3,4,5,6)\n",
        "print(L)\n",
        "print(len(L))\n",
        "print(type(L))\n",
        "\n",
        "#L[5] = 20     will give error, as tuples are immutable!\n",
        "\n",
        "#An Empty Dictionary\n",
        "dict = {}\n",
        "\n",
        "dict['Shikhar'] = 'CSE'\n",
        "dict['Vrinda'] = 'EE'\n",
        "dict['Karrthik'] = 'Chemical'\n",
        "\n",
        "print(dict)\n",
        "print(type(dict))\n",
        "print(dict['Shikhar'])\n",
        "\n",
        "#Dictionaries are also mutable\n",
        "dict['Shikhar'] = 'CS'\n",
        "\n",
        "print(dict)"
      ]
    },
    {
      "cell_type": "markdown",
      "metadata": {
        "id": "_mE4fQJzco5f"
      },
      "source": [
        "Note that there are many more features of these Data Structures which you'll slowly learn for yourselves as you apply Pythons for various applications!"
      ]
    },
    {
      "cell_type": "markdown",
      "metadata": {
        "id": "lw35stzWaJci"
      },
      "source": [
        "## Operators\n",
        "\n",
        "We have our fair bit of operators in Python just like other Programming languages."
      ]
    },
    {
      "cell_type": "code",
      "execution_count": null,
      "metadata": {
        "id": "mcgiTMSNao7P"
      },
      "outputs": [],
      "source": [
        "# Math is what you would expect\n",
        "print(1 + 1)   # => 2\n",
        "print(8 - 1)  # => 7\n",
        "print(10 * 2)  # => 20\n",
        "print(35 / 5)  # => 7.0\n",
        "\n",
        "# Integer division rounds down for both positive and negative numbers.\n",
        "print(5 // 3)       # => 1\n",
        "print(-5 // 3)      # => -2\n",
        "print(5.0 // 3.0)   # => 1.0 # works on floats too\n",
        "print(-5.0 // 3.0)  # => -2.0\n",
        "\n",
        "# The result of division is always a float\n",
        "print(10.0 / 3)  # => 3.3333333333333335\n",
        "\n",
        "# Modulo operation\n",
        "print(7 % 3)   # => 1\n",
        "# i % j have the same sign as j, unlike C\n",
        "print(-7 % 3)  # => 2\n",
        "\n",
        "# Exponentiation (x**y, x to the yth power)\n",
        "print(2**3)  # => 8\n",
        "\n",
        "# Enforce precedence with parentheses\n",
        "print(1 + 3 * 2)    # => 7\n",
        "print((1 + 3) * 2)  # => 8\n",
        "\n",
        "# Boolean values are primitives (Note: the capitalization)\n",
        "print(True)   # => True\n",
        "print(False)  # => False\n",
        "\n",
        "# negate with not\n",
        "print(not True)  # => False\n",
        "print(not False)  # => True\n",
        "\n",
        "# Boolean Operators\n",
        "# Note \"and\" and \"or\" are case-sensitive\n",
        "print(True and False)  # => False\n",
        "print(False or True)   # => True\n",
        "\n",
        "# True and False are actually 1 and 0 but with different keywords\n",
        "print(True + True) # => 2\n",
        "print(True * 8)    # => 8\n",
        "print(False - 5)   # => -5\n",
        "\n",
        "# Comparison operators look at the numerical value of True and False\n",
        "print(0 == False)  # => True\n",
        "print(1 == True)   # => True\n",
        "print(2 == True)   # => False\n",
        "print(-5 != False) # => True\n",
        "\n",
        "# Using boolean logical operators on ints casts them to booleans for evaluation, but their non-cast value is returned\n",
        "# Don't mix up with bool(ints) and bitwise and/or (&,|)\n",
        "print(bool(0))     # => False\n",
        "print(bool(4))     # => True\n",
        "print(bool(-6))    # => True\n",
        "print(0 and 2)     # => 0\n",
        "print(-5 or 0)     # => -5\n",
        "\n",
        "# Equality is ==\n",
        "print(1 == 1)  # => True\n",
        "print(2 == 1)  # => False\n",
        "\n",
        "# Inequality is !=\n",
        "print(1 != 1)  # => False\n",
        "print(2 != 1)  # => True\n",
        "\n",
        "# More comparisons\n",
        "print(1 < 10)  # => True\n",
        "print(1 > 10)  # => False\n",
        "print(2 <= 2)  # => True\n",
        "print(2 >= 2)  # => True\n",
        "\n",
        "# Seeing whether a value is in a range\n",
        "print(1 < 2 and 2 < 3)  # => True\n",
        "print(2 < 3 and 3 < 2)  # => False\n",
        "\n",
        "# Chaining makes this look nicer\n",
        "print(1 < 2 < 3)  # => True\n",
        "print(2 < 3 < 2)  # => False"
      ]
    },
    {
      "cell_type": "markdown",
      "metadata": {
        "id": "BTbjgxE0cNr6"
      },
      "source": [
        "## Conditionals, Loops and Iterators\n",
        "\n",
        "\n"
      ]
    },
    {
      "cell_type": "markdown",
      "metadata": {
        "id": "dyJeNDH2pTI8"
      },
      "source": [
        "Conditions in Python, not much unlike C++ have the general syntax:\n",
        "\n",
        "       if (condition) :\n",
        "\n",
        "           DO THIS\n",
        "\n",
        "Mark the differences from what you may have seen from CS101 in C++, There are no clumsy brackets. \n",
        "\n",
        "That's the beauty of Python, indentation does the work of brackets!\n"
      ]
    },
    {
      "cell_type": "code",
      "execution_count": null,
      "metadata": {
        "id": "j8pabCfSdcDY"
      },
      "outputs": [],
      "source": [
        "# The Condition can be any expression which returns a boolean\n",
        "\n",
        "if 5>4:\n",
        "  print('The Condition was fulfilled!')\n",
        "else:\n",
        "  print('The Condition wasnt fulfilled!')\n",
        "\n",
        "\n",
        "#We also have elif(s) to replace the else-if constructs from C++\n",
        "\n",
        "if 2 > 3:\n",
        "  print('Condition 1 was satisfied!')\n",
        "elif 1<2:\n",
        "  print('Condition 2 was satisfied!')\n",
        "else:\n",
        "  print('No condition was satisfied!')\n",
        "\n",
        "#We also have membership operator which returns a boolean and can be used as a condition\n",
        "\n",
        "if 5 in [1,2,3,4,5,6]:\n",
        "  print('Found 5!')\n",
        "else:\n",
        "  print('Didnt find 5')\n"
      ]
    },
    {
      "cell_type": "markdown",
      "metadata": {
        "id": "D-RNju35fLBY"
      },
      "source": [
        "In Similar Spirit, While loop takes the form:\n",
        "\n",
        "        while (condition) :\n",
        "               'DO THIS'\n",
        "\n"
      ]
    },
    {
      "cell_type": "code",
      "execution_count": null,
      "metadata": {
        "id": "lhCQfuASfZKN"
      },
      "outputs": [],
      "source": [
        "i = 1\n",
        "j = 7\n",
        "\n",
        "while i<=10:\n",
        "  \n",
        "  print(str(j)+'x'+str(i)+'='+str(i*j))      #str(x) would type-cast (convert) x to a string, it might be an integer,float or anything else which would make sense as a string\n",
        "  i+=1\n",
        "\n",
        "\n",
        "i = 1\n",
        "L = []\n",
        "\n",
        "while len(L)<=10:\n",
        "  \n",
        "  L.append(i)           \n",
        "  i+=1\n",
        "\n",
        "\n",
        "print(L)"
      ]
    },
    {
      "cell_type": "markdown",
      "metadata": {
        "id": "BKlq9-Tkgef1"
      },
      "source": [
        "How to compensate for our beloved for loop?\n",
        "That is done using iterators in Python\n",
        "\n",
        "          for x in *iterator*:\n",
        "               'DO THIS'\n",
        "\n",
        "Examples would make this clear!"
      ]
    },
    {
      "cell_type": "code",
      "execution_count": null,
      "metadata": {
        "id": "xAkB8bUhgvhL"
      },
      "outputs": [],
      "source": [
        "for i in range(0,10):            #range(x,y) gives you an iterator for the numbers x,x+1,x+2.......y-1\n",
        "  print(i)\n",
        "\n",
        "for x in [1,2,3,4,5,6]:           #A list can also be viewed as an iterator (As its something to be iterated upon!)\n",
        "  print(x)"
      ]
    },
    {
      "cell_type": "markdown",
      "metadata": {
        "id": "FW3V2mdCPHNU"
      },
      "source": [
        "## Functions\n",
        "\n",
        "This is the simplest structure of a function. It\n",
        "uses the keyword *def* to inform Python that you’re defining a function. "
      ]
    },
    {
      "cell_type": "code",
      "execution_count": null,
      "metadata": {
        "id": "dDKqOYVxNx3h"
      },
      "outputs": [],
      "source": [
        "def function_name(parameter):\n",
        "  \"\"\" docstring \"\"\"\n",
        "  statements"
      ]
    },
    {
      "cell_type": "markdown",
      "metadata": {
        "id": "YVQBDz-hP5pq"
      },
      "source": [
        "To call a function, you write the name of the function, followed by any necessary information in parentheses called arguments. These are passed to the function and stored in the parameters."
      ]
    },
    {
      "cell_type": "code",
      "execution_count": null,
      "metadata": {
        "id": "ag-95Vs5P2Rf"
      },
      "outputs": [],
      "source": [
        "function_name(argument)"
      ]
    },
    {
      "cell_type": "markdown",
      "metadata": {
        "id": "dvrxzG3gPVi5"
      },
      "source": [
        "A simple example of  a function "
      ]
    },
    {
      "cell_type": "code",
      "execution_count": null,
      "metadata": {
        "id": "5C8_XdKHPrRM"
      },
      "outputs": [],
      "source": [
        "def greet_user(username):\n",
        "  \"\"\"Display a simple greeting.\"\"\"\n",
        "  print(\"Hello, \" + username.title() + \"!\")\n",
        "\n",
        "greet_user('jesse')"
      ]
    },
    {
      "cell_type": "markdown",
      "metadata": {
        "id": "8XcaTzx-QHlU"
      },
      "source": [
        "### Types of arguments\n",
        "\n",
        "There are two ways of passing the arguments - As positional arguements or keyword arguments.\n",
        "\n",
        "#### Positional Arguments\n",
        "Python matches each argument in the function call to a paramenter in the function definition. In this case python does so based upon the order in which the arguments are provided."
      ]
    },
    {
      "cell_type": "code",
      "execution_count": null,
      "metadata": {
        "id": "hOaZp5k2Q5Jv"
      },
      "outputs": [],
      "source": [
        "def describe_pet(animal_type, pet_name):\n",
        "  \"\"\"Display information about a pet.\"\"\"\n",
        "  print(\"My \" + animal_type + \"'s name is \" + pet_name.title() + \".\")\n",
        "\n",
        "describe_pet(\"owl\", \"Hedwig\")"
      ]
    },
    {
      "cell_type": "markdown",
      "metadata": {
        "id": "2DRZ_rMiPanu"
      },
      "source": [
        "For example, in this function call, the\n",
        "argument 'owl' is stored in the parameter animal_type and the argument\n",
        "'hedwig' is stored in the parameter pet_name.  "
      ]
    },
    {
      "cell_type": "markdown",
      "metadata": {
        "id": "dZG067DiROuI"
      },
      "source": [
        "#### Keyword Arguments\n",
        "Keyword argument refers to a name-value pair that you pass to a function. You\n",
        "directly associate the parameter and the value within the argument."
      ]
    },
    {
      "cell_type": "code",
      "execution_count": null,
      "metadata": {
        "id": "LKL-nx6URLz3"
      },
      "outputs": [],
      "source": [
        "def describe_pet(animal_type, pet_name):\n",
        "  \"\"\"Display information about a pet.\"\"\"\n",
        "  print(\"My \" + animal_type + \"'s name is \" + pet_name.title() + \".\")\n",
        "\n",
        "describe_pet(pet_name=\"hedwig\", animal_type=\"owl\",)"
      ]
    },
    {
      "cell_type": "markdown",
      "metadata": {
        "id": "Xofd68K3S4Bg"
      },
      "source": [
        "As you can see we explicitly tell Python which parameter each argument should be matched with. When Python reads the function call, it knows to store the argument 'owl' in the parameter animal_type and the argument 'hedwig' in pet_name."
      ]
    },
    {
      "cell_type": "markdown",
      "metadata": {
        "id": "XjFV8y2kUXVI"
      },
      "source": [
        "### Arbitrary Arguments\n",
        "If you do not know how many arguments will be passed into your function, add a ' * ' before the parameter name in the function definition.\n",
        "\n",
        "This way the function will receive a tuple of arguments, and can access the items accordingly:"
      ]
    },
    {
      "cell_type": "code",
      "execution_count": null,
      "metadata": {
        "id": "A5a4hb96Uj0U"
      },
      "outputs": [],
      "source": [
        "def my_pets(*pets):\n",
        "  \"\"\"Print how many pets a person has.\"\"\"\n",
        "  print(\"Here are the pets that I have : \")\n",
        "  for pet in pets:\n",
        "    print(pet)\n",
        "my_pets(\"owl\", \"dog\", \"cat\")"
      ]
    },
    {
      "cell_type": "markdown",
      "metadata": {
        "id": "Zq34GnVjUo5C"
      },
      "source": [
        "You can also use arbitrary arguments with keyword arguments by adding two asterisks: ** before the parameter name in the function definition.\n",
        "\n",
        "This way the function will receive a dictionary of arguments, and can access the items accordingly:"
      ]
    },
    {
      "cell_type": "code",
      "execution_count": null,
      "metadata": {
        "id": "7t8k3oo0U2OJ"
      },
      "outputs": [],
      "source": [
        "def describe_pet(**pet_info):\n",
        "  \"\"\"Display information about a pet.\"\"\"\n",
        "  print(\"My \" + pet_info['animal_type'] + \"'s name is \" + pet_info['pet_name'].title() + \".\")\n",
        "\n",
        "describe_pet(animal_type = \"owl\", pet_name = \"Hedwig\")"
      ]
    },
    {
      "cell_type": "markdown",
      "metadata": {
        "id": "FQYvfkPbUBll"
      },
      "source": [
        "### Default Values\n",
        "\n",
        "When writing a function, you can define a default value for each parameter.\n",
        "If an argument for a parameter is provided in the function call, Python uses\n",
        "the argument value. If not, it uses the parameter’s default value"
      ]
    },
    {
      "cell_type": "code",
      "execution_count": null,
      "metadata": {
        "id": "iPCtjoaMUEBl"
      },
      "outputs": [],
      "source": [
        "def describe_pet(pet_name, animal_type = \"dog\"):\n",
        "  \"\"\"Display information about a pet.\"\"\"\n",
        "  print(\"My \" + animal_type + \"'s name is \" + pet_name.title() + \".\")\n",
        "\n",
        "describe_pet(\"Tommy\")"
      ]
    },
    {
      "cell_type": "markdown",
      "metadata": {
        "id": "L8sT4uXNS-vK"
      },
      "source": [
        "### Return Statements\n",
        "\n",
        "The *return statement* takes a value\n",
        "from inside a function and sends it back to the line that called the function."
      ]
    },
    {
      "cell_type": "code",
      "execution_count": null,
      "metadata": {
        "id": "cF_22T4xVEC0"
      },
      "outputs": [],
      "source": [
        "def get_formatted_name(first_name, last_name):\n",
        "  \"\"\"Return a full name, neatly formatted.\"\"\"\n",
        "  full_name = first_name + ' ' + last_name\n",
        "  return full_name.title()\n",
        "\n",
        "musician = get_formatted_name('jimi', 'hendrix')\n",
        "print(musician)"
      ]
    },
    {
      "cell_type": "markdown",
      "metadata": {
        "id": "DO55m8goVG0L"
      },
      "source": [
        "### Lambda Functions\n",
        "\n",
        "Lambda function or anonymous function refers to functions without a name."
      ]
    },
    {
      "cell_type": "code",
      "execution_count": null,
      "metadata": {
        "id": "krWwkyhVVQTf"
      },
      "outputs": [],
      "source": [
        "def cube(x): return x*x*x\n",
        " \n",
        "cube_v2 = lambda x : x*x*x\n",
        " \n",
        "print(cube(7))\n",
        "print(cube_v2(7))"
      ]
    },
    {
      "cell_type": "markdown",
      "metadata": {
        "id": "E5OYnWIgVmsv"
      },
      "source": [
        "You can better appreciate the power of lambda functions in this example where we use the lambda function to create more such functions."
      ]
    },
    {
      "cell_type": "code",
      "execution_count": null,
      "metadata": {
        "id": "2wsDSu51Vvrq"
      },
      "outputs": [],
      "source": [
        "def myfunc(n):\n",
        "  return lambda a : a*n\n",
        "\n",
        "mydoubler = myfunc(2)\n",
        "print(mydoubler(11))\n",
        "\n",
        "mytripler = myfunc(3)\n",
        "print(mytripler(7))"
      ]
    },
    {
      "cell_type": "markdown",
      "metadata": {
        "id": "V1M_L-5CW8VV"
      },
      "source": [
        "### Scope of Variables\n",
        "\n",
        "Scope of a variable is the portion of a program where the variable is recognized. Parameters and variables defined inside a function are not visible from outside the function. Hence, they have a local scope.\n"
      ]
    },
    {
      "cell_type": "code",
      "execution_count": null,
      "metadata": {
        "id": "z2tqhFfJW_RI"
      },
      "outputs": [],
      "source": [
        "def my_func():\n",
        "\tx = 10\n",
        "\tprint(\"Value inside function:\",x)\n",
        "\n",
        "x = 20\n",
        "my_func()\n",
        "print(\"Value outside function:\",x)"
      ]
    },
    {
      "cell_type": "markdown",
      "metadata": {
        "id": "IRL10O1JXPZ2"
      },
      "source": [
        "Here, we can see that the value of x is 20 initially. Even though the function my_func() changed the value of x to 10, it did not affect the value outside the function. \n",
        "This is because the variable x inside the function is different (local to the function) from the one outside. Although they have the same names, they are two different variables with different scopes.\n",
        "\n"
      ]
    },
    {
      "cell_type": "markdown",
      "metadata": {
        "id": "SPR6TWLkXvBC"
      },
      "source": [
        "## Modules\n",
        "A module\n",
        "is a file ending in .py that contains the code you want to import into your\n",
        "program. **bold text**\n",
        "\n"
      ]
    },
    {
      "cell_type": "markdown",
      "metadata": {
        "id": "vOsQ2xjgaEsh"
      },
      "source": [
        "\n",
        "To create a module you make a python file containing the functions or variables that you need.  \n",
        "\n",
        "For example we can make a module ( we can name it pizza.py) with the following code to make a pizza."
      ]
    },
    {
      "cell_type": "code",
      "execution_count": null,
      "metadata": {
        "id": "Q187Ao4xaJkK"
      },
      "outputs": [],
      "source": [
        "def make_pizza(size, *toppings):\n",
        "  \"\"\"Summarize the pizza we are about to make.\"\"\"\n",
        "  print(\"\\nMaking a \" + str(size) + \"-inch pizza with the following toppings:\")\n",
        "  for topping in toppings:\n",
        "    print(\"- \" + topping)"
      ]
    },
    {
      "cell_type": "markdown",
      "metadata": {
        "id": "ob2qgr8-a_mI"
      },
      "source": [
        "We can now import the module in our program and access the functions.\n",
        "Given that the module must be in the same folder as our program."
      ]
    },
    {
      "cell_type": "code",
      "execution_count": null,
      "metadata": {
        "id": "9FULzM53bNY2"
      },
      "outputs": [],
      "source": [
        "import pizza\n",
        "\n",
        "pizza.make_pizza(16, 'pepperoni')\n",
        "pizza.make_pizza(12, 'mushrooms', 'green peppers', 'extra cheese')"
      ]
    },
    {
      "cell_type": "markdown",
      "metadata": {
        "id": "nVZbZM5QbVah"
      },
      "source": [
        "To call a function from an imported module, you enter the name of\n",
        "the module you imported, *pizza*, followed by the name of the function,\n",
        "*make_pizza()*, separated by a dot."
      ]
    },
    {
      "cell_type": "markdown",
      "metadata": {
        "id": "vgEdR5ZGbgqw"
      },
      "source": [
        "We can also import specific functions using the following syntax:"
      ]
    },
    {
      "cell_type": "code",
      "execution_count": null,
      "metadata": {
        "id": "P7itJCJDbfgT"
      },
      "outputs": [],
      "source": [
        "from module_name import function_name"
      ]
    },
    {
      "cell_type": "markdown",
      "metadata": {
        "id": "7IKSo_16bmUf"
      },
      "source": [
        "Like this:"
      ]
    },
    {
      "cell_type": "code",
      "execution_count": null,
      "metadata": {
        "id": "OKT13cwybnic"
      },
      "outputs": [],
      "source": [
        "from pizza import make_pizza\n",
        "\n",
        "make_pizza(16, 'pepperoni')\n",
        "make_pizza(12, 'mushrooms', 'green peppers', 'extra cheese')"
      ]
    },
    {
      "cell_type": "markdown",
      "metadata": {
        "id": "NnypwZ1dbxoI"
      },
      "source": [
        "You can use the asterik(*) to import all the functions of a given module like this:"
      ]
    },
    {
      "cell_type": "code",
      "execution_count": null,
      "metadata": {
        "id": "7UDMOeK7bxDV"
      },
      "outputs": [],
      "source": [
        "from pizza import *\n",
        "\n",
        "make_pizza(16, 'pepperoni')\n",
        "make_pizza(12, 'mushrooms', 'green peppers', 'extra cheese')"
      ]
    },
    {
      "cell_type": "markdown",
      "metadata": {
        "id": "ysl4sQVvcBKS"
      },
      "source": [
        "The *as* keyword is used to give alias to modules or functions while importing them in order to shorten their names and make it easier to call them."
      ]
    },
    {
      "cell_type": "code",
      "execution_count": null,
      "metadata": {
        "id": "RNkbgXHecRyg"
      },
      "outputs": [],
      "source": [
        "from pizza import make_pizza as mp # giving alias to a function\n",
        "\n",
        "mp(16, 'pepperoni')\n",
        "\n",
        "import pizza as p # giving alias to the module\n",
        "\n",
        "p.make_pizza(16, 'pepperoni')"
      ]
    },
    {
      "cell_type": "markdown",
      "metadata": {
        "id": "4Kne1rZxpjs7"
      },
      "source": [
        "## Packages in Python\n",
        "\n",
        "As our application program grows larger in size with a lot of modules, we place similar modules in one package and different modules in different packages. This makes a project (program) easy to manage and conceptually clear.\n",
        "\n",
        "Here you can see how one might organize packages for a game.\n",
        "\n"
      ]
    },
    {
      "cell_type": "markdown",
      "metadata": {
        "id": "X2EMSo6A_D3p"
      },
      "source": [
        "![packages.webp](data:image/webp;base64,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)"
      ]
    },
    {
      "cell_type": "markdown",
      "metadata": {
        "id": "-jyPx6v2yimN"
      },
      "source": [
        "We can import modules from these packages in quite a similar way like this:"
      ]
    },
    {
      "cell_type": "code",
      "execution_count": null,
      "metadata": {
        "id": "gvt_ogBOcVz8"
      },
      "outputs": [],
      "source": [
        "import Games.Level.start\n",
        "\n",
        "Game.Level.start.select_difficulty(2)"
      ]
    },
    {
      "cell_type": "markdown",
      "metadata": {
        "id": "o3n6b8jBysFr"
      },
      "source": [
        "We can directly import functions and then call them as well:"
      ]
    },
    {
      "cell_type": "code",
      "execution_count": null,
      "metadata": {
        "id": "e4sFdFmCyg65"
      },
      "outputs": [],
      "source": [
        "from Game.Level.start import select_difficulty\n",
        "\n",
        "select_difficulty(2)"
      ]
    },
    {
      "cell_type": "markdown",
      "metadata": {
        "id": "EPTZdJxUcKyH"
      },
      "source": [
        "Although easier this method can often leads to confusion since it might cause two identifier names to coincide."
      ]
    },
    {
      "cell_type": "markdown",
      "metadata": {
        "id": "uZsPLcA0zlmZ"
      },
      "source": [
        "## Classes and Objects\n",
        "\n",
        "Class is a collection of many different functions and attributes (variables) that can be accessed by an object of that class. These methods inside a class are defined almost in the same way as normal Python functions are defined."
      ]
    },
    {
      "cell_type": "markdown",
      "metadata": {
        "id": "nlaObfgt02Qf"
      },
      "source": [
        "The following example illustrates how to create a class and declare various attributes and methods in it. "
      ]
    },
    {
      "cell_type": "code",
      "execution_count": null,
      "metadata": {
        "id": "vJb4j_Na0kdF"
      },
      "outputs": [],
      "source": [
        "class Human:\n",
        "\n",
        "    # A class attribute. It is shared by all instances of this class\n",
        "    species = \"H. sapien\"\n",
        "\n",
        "    #__init__ is the basic initializer(called the constructor), this is called when this class is instantiated.\n",
        "    # Note that the double leading and trailing underscores denote objects\n",
        "    # or attributes that are used by Python but that live in user-controlled\n",
        "    # namespaces. Methods(or objects or attributes) like: __init__, __str__,\n",
        "    # __repr__ etc. are called special methods (or sometimes called dunder methods)\n",
        "    # You should not invent such names on your own.\n",
        "    def __init__(self, name, age):\n",
        "        # Assign the argument to the instance's name attribute\n",
        "        self.name = name\n",
        "\n",
        "        # Initialize property\n",
        "        self.age = age\n",
        "\n",
        "    #The self parameter is required in the method definition, and it must come before the other parameters. \n",
        "    #Every method call associated with a class automatically passes self, which is a reference to the instance itself; \n",
        "    #it gives the individual instance access to the attributes and methods in the class.\n",
        "\n",
        "    # We now declare some methods which will be associated with the class. \n",
        "    #Using these methods we can access various attributes of the class, use them, change them etc.\n",
        "\n",
        "    def say(self, msg):\n",
        "        print(self.name + \" : \" + msg)\n",
        "\n",
        "    def age_setter(self, age):\n",
        "        self.age = age\n",
        "\n",
        "    def age_getter(self):\n",
        "        return self.age\n",
        "        \n",
        "    def print_species(self):\n",
        "        print(self.name + \" : \" + self.species)\n",
        "\n",
        "    # note we always have to put self as the first parameter of the method\n"
      ]
    },
    {
      "cell_type": "markdown",
      "metadata": {
        "id": "GU-Z7o1T5RFf"
      },
      "source": [
        "Now we can create instances of this class(objects) and then use methods and attributes associated with it. "
      ]
    },
    {
      "cell_type": "code",
      "execution_count": null,
      "metadata": {
        "colab": {
          "base_uri": "https://localhost:8080/"
        },
        "id": "jQ_Ih-ZN6M0d",
        "outputId": "a06a18c6-55a8-4481-eb8a-9c63e3058ece"
      },
      "outputs": [],
      "source": [
        "p1 = Human(name= \"Kartik\", age = 18)\n",
        "p1.say(\"Hello!!!\")   \n",
        "p1.say(\"Kaise ho?\")              \n",
        "p2 = Human(\"Shikhar\", 18)\n",
        "p2.say(\"Machaa raha hun\")\n"
      ]
    },
    {
      "cell_type": "markdown",
      "metadata": {
        "id": "KthTEGE-7s4q"
      },
      "source": [
        "Using the age setter method we can even change variables associated with that object."
      ]
    },
    {
      "cell_type": "code",
      "execution_count": null,
      "metadata": {
        "colab": {
          "base_uri": "https://localhost:8080/"
        },
        "id": "L0bx-XGT72et",
        "outputId": "947e8d91-de61-4795-d4bb-8824110d2d35"
      },
      "outputs": [],
      "source": [
        "p1.age_setter(20)\n",
        "print(p1.age_getter())\n",
        "print(p2.age_getter())"
      ]
    },
    {
      "cell_type": "markdown",
      "metadata": {
        "id": "O0JYFnoU9iVi"
      },
      "source": [
        "We can also change the shared attribute so that it changes for all the instances"
      ]
    },
    {
      "cell_type": "code",
      "execution_count": null,
      "metadata": {
        "colab": {
          "base_uri": "https://localhost:8080/"
        },
        "id": "XP6NlrBS9hmK",
        "outputId": "23b19653-397e-4454-9849-fe33f0ee5600"
      },
      "outputs": [],
      "source": [
        "p1.print_species()\n",
        "Human.species = \"H. neanderthalensis\"\n",
        "p1.print_species()\n",
        "p2.print_species()"
      ]
    },
    {
      "cell_type": "markdown",
      "metadata": {
        "id": "yWEtx-Q7W4pH"
      },
      "source": [
        "## Some Standard Libraries of Python\n"
      ]
    },
    {
      "cell_type": "markdown",
      "metadata": {
        "id": "fdWqscD-pLku"
      },
      "source": [
        "There are a lot of useful and interesting libraries available in python. Using such libraries often helps in reducing the effort and saves time in a number of places. It is important to be familiar with certain Standard libraries. Here your main focus should be on developing the skill of looking through the documentation of the library and learning how to use the methods and attributes it offers:\n",
        "\n",
        "_Note: Don’t forget to first import the module using statements like “import math” which was covered in modules and packages!!!!_ \n",
        "- The math Library: Python has a built-in module that you can use for mathematical tasks.The math module has a set of methods and constants. Some of these methods often come in handy. You go to [this](https://docs.python.org/3/library/math.html) link to learn about the methods and constants in the math module. It's beneficial to know about some of the basic trigonometric, exponential, logarithmic functions and some numeric ones like factorial, fabs, floor, ceil etc. They are used quite frequently.  \n",
        "- The random library:  This module implements pseudo-random number generators for various distributions. Some of the functions that you should be familiar with are seed(), randrange(), randint(), choice(), choices(), sample(), random(), uniform(). You head over to [this](https://docs.python.org/3/library/random.html) link to learn about this library.\n",
        "- The time library: This module provides various time-related functions. You should know about the terms epoch, seconds since epoch, local time, UTC, struct_time and also  about functions used in conversions from struct_time to seconds since epoch etc. You can head over to [this](https://realpython.com/python-time-module/) link and learn about these. \n",
        "- The datetime library:  The datetime module supplies classes for manipulating dates and times.You should have a basic idea about creating a date and datetime objects and know about some of the methods. You can head over to [this](https://www.geeksforgeeks.org/python-datetime-module-with-examples/) link to learn about them."
      ]
    },
    {
      "cell_type": "markdown",
      "metadata": {
        "id": "udY1_1AlX4o2"
      },
      "source": [
        "By the end of this week you should  be familiar with basics of python. You should have a good enough idea about data types, loops, operators, iterators, functions, modules and packages, classes in python. Do go through the the assignment after finishing the reading material. It will give you a chance to apply these concepts and practice your skills. Next week we will learn to use python in the field of data analysis. "
      ]
    }
  ],
  "metadata": {
    "colab": {
      "collapsed_sections": [
        "SPR6TWLkXvBC"
      ],
      "name": "Python_Review.ipynb",
      "provenance": []
    },
    "kernelspec": {
      "display_name": "Python 3",
      "language": "python",
      "name": "python3"
    },
    "language_info": {
      "codemirror_mode": {
        "name": "ipython",
        "version": 3
      },
      "file_extension": ".py",
      "mimetype": "text/x-python",
      "name": "python",
      "nbconvert_exporter": "python",
      "pygments_lexer": "ipython3",
      "version": "3.10.6"
    },
    "vscode": {
      "interpreter": {
        "hash": "916dbcbb3f70747c44a77c7bcd40155683ae19c65e1c03b4aa3499c5328201f1"
      }
    }
  },
  "nbformat": 4,
  "nbformat_minor": 0
}
