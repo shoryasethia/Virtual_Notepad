{
  "nbformat": 4,
  "nbformat_minor": 0,
  "metadata": {
    "colab": {
      "name": "Modules and Packages.ipynb",
      "provenance": []
    },
    "kernelspec": {
      "name": "python3",
      "display_name": "Python 3"
    },
    "language_info": {
      "name": "python"
    }
  },
  "cells": [
    {
      "cell_type": "markdown",
      "metadata": {
        "id": "DHQyFRDo-IoF"
      },
      "source": [
        "# Modules\n",
        "\n",
        "Instructions for using the notebook on Google colab:\n",
        "- Create the files as directed using any of the code editors like VS Code, Atom, Vim, Sublime, etc.\n",
        "- In the left vertical bar of this notebook, select the files icon.\n",
        "- Select the option \"upload session storage\" and upload both the file pizza.py everytime different for different code snippets in the notebook.\n",
        "- These files will exist only when the session is running. You will have to re-upload if the session expires.\n"
      ]
    },
    {
      "cell_type": "markdown",
      "metadata": {
        "id": "KRWUMcVp_BXU"
      },
      "source": [
        "## Creating a module\n",
        "\n",
        "A module\n",
        "is a file ending in .py that contains the code you want to import into your\n",
        "program. Let’s make a module that contains the function make_pizza().  \n",
        "\n",
        "Create a separate file pizza.py with the following code. This will be our module that we will be importing."
      ]
    },
    {
      "cell_type": "code",
      "metadata": {
        "id": "BDf7Tnph9FW5"
      },
      "source": [
        "def make_pizza(size, *toppings):\n",
        "  \"\"\"Summarize the pizza we are about to make.\"\"\"\n",
        "  print(\"\\nMaking a \" + str(size) + \"-inch pizza with the following toppings:\")\n",
        "  for topping in toppings:\n",
        "    print(\"- \" + topping)"
      ],
      "execution_count": null,
      "outputs": []
    },
    {
      "cell_type": "markdown",
      "metadata": {
        "id": "tToFyN4RB_8l"
      },
      "source": [
        "### Importing the module\n",
        "This code imports the module we just created and then\n",
        "makes two calls to make_pizza()"
      ]
    },
    {
      "cell_type": "code",
      "metadata": {
        "id": "lM7gf0qFCMjy"
      },
      "source": [
        "import pizza\n",
        "\n",
        "pizza.make_pizza(16, 'pepperoni')\n",
        "pizza.make_pizza(12, 'mushrooms', 'green peppers', 'extra cheese')"
      ],
      "execution_count": null,
      "outputs": []
    },
    {
      "cell_type": "markdown",
      "metadata": {
        "id": "nARMoEdmCdlB"
      },
      "source": [
        "When Python reads this file, the line *import pizza* tells Python to\n",
        "open the file pizza.py and copy all the functions from it into this program.\n",
        "You don’t actually see code being copied between files because Python\n",
        "copies the code behind the scenes as the program runs.  \n",
        "\n",
        "To call a function from an imported module, you enter the name of\n",
        "the module you imported, *pizza*, followed by the name of the function,\n",
        "*make_pizza()*, separated by a dot."
      ]
    },
    {
      "cell_type": "markdown",
      "metadata": {
        "id": "-n-0wa2LDddg"
      },
      "source": [
        "### Importing specific functions\n",
        "You can also import a specific function from a module. Here’s the general\n",
        "syntax for this approach:"
      ]
    },
    {
      "cell_type": "code",
      "metadata": {
        "id": "hgujWaqfCtbj"
      },
      "source": [
        "from module_name import function_name"
      ],
      "execution_count": null,
      "outputs": []
    },
    {
      "cell_type": "markdown",
      "metadata": {
        "id": "MOV-DvnCDq69"
      },
      "source": [
        "You can import as many functions as you want from a module by separating\n",
        "each function’s name with a comma"
      ]
    },
    {
      "cell_type": "code",
      "metadata": {
        "id": "dMlyA0LSDvEh"
      },
      "source": [
        "from module_name import function_0, function_1, function_2"
      ],
      "execution_count": null,
      "outputs": []
    },
    {
      "cell_type": "markdown",
      "metadata": {
        "id": "SGbg1asRD5A6"
      },
      "source": [
        "Using this approach in the above example:"
      ]
    },
    {
      "cell_type": "code",
      "metadata": {
        "id": "CKLsUvo3D_Ie"
      },
      "source": [
        "from pizza import make_pizza\n",
        "\n",
        "make_pizza(16, 'pepperoni')\n",
        "make_pizza(12, 'mushrooms', 'green peppers', 'extra cheese')"
      ],
      "execution_count": null,
      "outputs": []
    },
    {
      "cell_type": "markdown",
      "metadata": {
        "id": "FYfiPZWmEApc"
      },
      "source": [
        "With this syntax, you don’t need to use the dot notation when you call the\n",
        "function.  \n",
        "\n",
        "You can tell Python to import every function in a module by using the asterisk\n",
        "(*) operator:"
      ]
    },
    {
      "cell_type": "code",
      "metadata": {
        "id": "xpYQfpabEZbK"
      },
      "source": [
        "from pizza import *\n",
        "\n",
        "make_pizza(16, 'pepperoni')\n",
        "make_pizza(12, 'mushrooms', 'green peppers', 'extra cheese')"
      ],
      "execution_count": null,
      "outputs": []
    },
    {
      "cell_type": "markdown",
      "metadata": {
        "id": "zo7fM07iEJ7Q"
      },
      "source": [
        "The asterisk in the import statement tells Python to copy every function\n",
        "from the module *pizza* into this program file. Because every function\n",
        "is imported, you can call each function by name without using the dot\n",
        "notation. However, it’s best not to use this approach when you’re working\n",
        "with larger modules that you didn’t write: if the module has a function\n",
        "name that matches an existing name in your project, you can get some\n",
        "unexpected results.\n"
      ]
    },
    {
      "cell_type": "markdown",
      "metadata": {
        "id": "Rl6I1UTYEjdP"
      },
      "source": [
        "### Using *as* to give functions and modules an alias\n",
        "\n",
        "If the name of a function you’re importing might conflict with an existing\n",
        "name in your program or if the function name is long, you can use a\n",
        "short, unique alias."
      ]
    },
    {
      "cell_type": "code",
      "metadata": {
        "id": "P3DDiFE2Foev"
      },
      "source": [
        "from pizza import make_pizza as mp\n",
        "\n",
        "mp(16, 'pepperoni')\n",
        "mp(12, 'mushrooms', 'green peppers', 'extra cheese')"
      ],
      "execution_count": null,
      "outputs": []
    },
    {
      "cell_type": "markdown",
      "metadata": {
        "id": "mhVkx6UwFudl"
      },
      "source": [
        "The import statement shown here renames the function make_pizza() to\n",
        "mp() in this program using the keyword *as*."
      ]
    },
    {
      "cell_type": "markdown",
      "metadata": {
        "id": "_ZvdnoafF9br"
      },
      "source": [
        "You can also provide an alias for a module name. Giving a module a short\n",
        "alias, like p for pizza, allows you to call the module’s functions more quickly."
      ]
    },
    {
      "cell_type": "code",
      "metadata": {
        "id": "eFv2_-TWF-jM"
      },
      "source": [
        "import pizza as p\n",
        "\n",
        "p.make_pizza(16, 'pepperoni')\n",
        "p.make_pizza(12, 'mushrooms', 'green peppers', 'extra cheese')"
      ],
      "execution_count": null,
      "outputs": []
    },
    {
      "cell_type": "markdown",
      "metadata": {
        "id": "L9FbI3BzGJiv"
      },
      "source": [
        "The module pizza is given the alias p in the import statement, but all of\n",
        "the module’s functions retain their original names."
      ]
    },
    {
      "cell_type": "markdown",
      "metadata": {
        "id": "uXqw6INzF1Ul"
      },
      "source": [
        "# Packages in Python\n",
        "\n",
        "Similar files are kept in the same directory, for example, we may keep all the songs in the \"music\" directory. Analogous to this, Python has packages for directories and modules for files.\n",
        "\n",
        "As our application program grows larger in size with a lot of modules, we place similar modules in one package and different modules in different packages. This makes a project (program) easy to manage and conceptually clear.\n",
        "\n",
        "Similarly, as a directory can contain subdirectories and files, a Python package can have sub-packages and modules.\n",
        "\n",
        "A directory must contain a file named init.py in order for Python to consider it as a package. This file can be left empty but we generally place the initialization code for that package in this file.\n",
        "\n",
        "Here is an example. Suppose we are developing a game. One possible organization of packages and modules could be as shown in the figure below."
      ]
    },
    {
      "cell_type": "markdown",
      "metadata": {
        "id": "jomMBLy3Jvds"
      },
      "source": [
        "![packages.webp](data:image/webp;base64,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)"
      ]
    },
    {
      "cell_type": "markdown",
      "metadata": {
        "id": "gaPDqM1eKPkS"
      },
      "source": [
        "### Importing modules from packages\n",
        "\n",
        "Note: Do **not** run the following code snippets. They are only to help you better understand how we can use packages.\n",
        "\n",
        "We can import modules from packages using the dot(.) operator.  \n",
        "For example, if we want to import the start module in the above example, it can be done as follows:"
      ]
    },
    {
      "cell_type": "code",
      "metadata": {
        "id": "gTVJivuFJuOd"
      },
      "source": [
        "import Games.Level.start"
      ],
      "execution_count": null,
      "outputs": []
    },
    {
      "cell_type": "markdown",
      "metadata": {
        "id": "EoZqc0UfKnVA"
      },
      "source": [
        "Now, if this module contains a function named select_difficulty(), we must use the full name to reference it."
      ]
    },
    {
      "cell_type": "code",
      "metadata": {
        "id": "1ODSbOxUKrZ-"
      },
      "source": [
        "Game.Level.start.select_difficulty(2)"
      ],
      "execution_count": null,
      "outputs": []
    },
    {
      "cell_type": "markdown",
      "metadata": {
        "id": "UHdTujtBKsTr"
      },
      "source": [
        "We can even import the module without the package prefix and then call the function as follows:"
      ]
    },
    {
      "cell_type": "code",
      "metadata": {
        "id": "Q37aaiGzLVQU"
      },
      "source": [
        "from Game.Level.start import select_difficulty\n",
        "\n",
        "select_difficulty(2)"
      ],
      "execution_count": null,
      "outputs": []
    },
    {
      "cell_type": "markdown",
      "metadata": {
        "id": "4l4r2Z5FLhyu"
      },
      "source": [
        "Although easier, this method is not recommended. Using the full namespace avoids confusion and prevents two same identifier names from colliding."
      ]
    }
  ]
}
