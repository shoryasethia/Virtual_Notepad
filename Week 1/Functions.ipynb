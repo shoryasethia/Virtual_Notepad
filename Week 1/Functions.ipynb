{
  "nbformat": 4,
  "nbformat_minor": 0,
  "metadata": {
    "colab": {
      "name": "Functions.ipynb",
      "provenance": [],
      "collapsed_sections": []
    },
    "kernelspec": {
      "name": "python3",
      "display_name": "Python 3"
    },
    "language_info": {
      "name": "python"
    }
  },
  "cells": [
    {
      "cell_type": "markdown",
      "metadata": {
        "id": "whLBy8Jh8pVK"
      },
      "source": [
        "# Functions\n",
        "## Function syntax\n",
        "This shows the simplest structure of a function. It\n",
        "uses the keyword *def* to inform Python that you’re defining a function. This\n",
        "is called *function definition*, which tells Python the name of the function and, if applicable, what kind of information the function needs to do its job. This piece of information is called a *parameter* and is kept inside the parantheses. This is followed by a colon which marks the end of function definition.  \n",
        "\n",
        "Indented lines following the definition makeup the *body of the function*. Docstring describes what the function does. Docstrings are enclosed in triple quotes, which Python looks for when it generates documentation for the functions in your programs.  \n",
        "\n"
      ]
    },
    {
      "cell_type": "code",
      "metadata": {
        "id": "I7tf3Ly69VZW"
      },
      "source": [
        "def function_name(parameter):\n",
        "  \"\"\" docstring \"\"\"\n",
        "  statements"
      ],
      "execution_count": null,
      "outputs": []
    },
    {
      "cell_type": "markdown",
      "metadata": {
        "id": "gkhOqoSHHUKF"
      },
      "source": [
        "A function call tells\n",
        "Python to execute the code in the function. To call a function, you write\n",
        "the name of the function, followed by any necessary information in parentheses called *arguments*. These are passed to the function and stored in the *parameters*. "
      ]
    },
    {
      "cell_type": "code",
      "metadata": {
        "id": "TWoBce83J55w"
      },
      "source": [
        "function_name(argument)"
      ],
      "execution_count": null,
      "outputs": []
    },
    {
      "cell_type": "markdown",
      "metadata": {
        "id": "BOb7o-GjKeUY"
      },
      "source": [
        "### A simple example of a function"
      ]
    },
    {
      "cell_type": "code",
      "metadata": {
        "colab": {
          "base_uri": "https://localhost:8080/"
        },
        "id": "x2f5WCagJ95O",
        "outputId": "87a81d38-e006-47ac-d78c-a29cbaa76437"
      },
      "source": [
        "def greet_user(username):\n",
        "  \"\"\"Display a simple greeting.\"\"\"\n",
        "  print(\"Hello, \" + username.title() + \"!\")\n",
        "\n",
        "greet_user('jesse')"
      ],
      "execution_count": null,
      "outputs": [
        {
          "output_type": "stream",
          "text": [
            "Hello, Jesse!\n"
          ],
          "name": "stdout"
        }
      ]
    },
    {
      "cell_type": "markdown",
      "metadata": {
        "id": "ZqyRZ-IlKjet"
      },
      "source": [
        "It demonstrates a function that takes the username and prints a simple greeting.  Entering greet_user('jesse') calls greet_user() and gives the function the information it needs to execute the print statement. The function accepts the name you passed it and displays the greeting for that name. \"jesse\" is the argument that is passed into the function and stored in the parameter \"username\"."
      ]
    },
    {
      "cell_type": "markdown",
      "metadata": {
        "id": "owFGVLCYMFXa"
      },
      "source": [
        "## Positional Arguments\n",
        "When you call a function, Python must match each argument in the function\n",
        "call with a parameter in the function definition. The simplest way to\n",
        "do this is based on the order of the arguments provided. Values matched\n",
        "up this way are called positional arguments.  \n",
        "\n",
        "A simple example that demonstrates this:"
      ]
    },
    {
      "cell_type": "code",
      "metadata": {
        "colab": {
          "base_uri": "https://localhost:8080/"
        },
        "id": "0YBHTmT9MNN4",
        "outputId": "03ebe038-3d79-4357-ac59-7cd8f42fe5c1"
      },
      "source": [
        "def describe_pet(animal_type, pet_name):\n",
        "  \"\"\"Display information about a pet.\"\"\"\n",
        "  print(\"My \" + animal_type + \"'s name is \" + pet_name.title() + \".\")\n",
        "\n",
        "describe_pet(\"owl\", \"Hedwig\")"
      ],
      "execution_count": null,
      "outputs": [
        {
          "output_type": "stream",
          "text": [
            "My owl's name is Hedwig.\n"
          ],
          "name": "stdout"
        }
      ]
    },
    {
      "cell_type": "markdown",
      "metadata": {
        "id": "LGSDco9GMcgw"
      },
      "source": [
        "When we call describe_pet(), we need to provide an animal\n",
        "type and a name, in that order. For example, in the function call, the\n",
        "argument 'owl' is stored in the parameter animal_type and the argument\n",
        "'hedwig' is stored in the parameter pet_name.  \n",
        "\n",
        "The most important thing to note here is when using positional arguments, order matters!!"
      ]
    },
    {
      "cell_type": "markdown",
      "metadata": {
        "id": "mPJ0ctuGU4B2"
      },
      "source": [
        "## Arbitrary Arguments, *args\n",
        "If you do not know how many arguments will be passed into your function, add a ' * ' before the parameter name in the function definition.\n",
        "\n",
        "This way the function will receive a tuple of arguments, and can access the items accordingly:"
      ]
    },
    {
      "cell_type": "code",
      "metadata": {
        "colab": {
          "base_uri": "https://localhost:8080/"
        },
        "id": "eqJv7dnJVDIf",
        "outputId": "291bb3b2-dddd-4a7e-83be-f277900b107e"
      },
      "source": [
        "def my_pets(*pets):\n",
        "  \"\"\"Print how many pets a person has.\"\"\"\n",
        "  print(\"Here are the pets that I have : \")\n",
        "  for pet in pets:\n",
        "    print(pet)\n",
        "my_pets(\"owl\", \"dog\", \"cat\")"
      ],
      "execution_count": null,
      "outputs": [
        {
          "output_type": "stream",
          "text": [
            "Here are the pets that I have : \n",
            "owl\n",
            "dog\n",
            "cat\n"
          ],
          "name": "stdout"
        }
      ]
    },
    {
      "cell_type": "markdown",
      "metadata": {
        "id": "Z-3nYD4DMoDx"
      },
      "source": [
        "## Keyword Arguments\n",
        "Keyword argument is a name-value pair that you pass to a function. You\n",
        "directly associate the name and the value within the argument, so when you\n",
        "pass the argument to the function, there’s no confusion ( you won't end up with a Harry named owl). Keyword arguments free you from having\n",
        "to worry about correctly ordering your arguments in the function call, and\n",
        "they clarify the role of each value in the function call.  \n",
        "\n",
        "Using keyword arguments in the same example:"
      ]
    },
    {
      "cell_type": "code",
      "metadata": {
        "colab": {
          "base_uri": "https://localhost:8080/"
        },
        "id": "E18YtDfgN3ze",
        "outputId": "3652fe1d-f2b7-44a2-c99c-bd7007f49448"
      },
      "source": [
        "describe_pet(pet_name=\"hedwig\", animal_type=\"owl\",)"
      ],
      "execution_count": null,
      "outputs": [
        {
          "output_type": "stream",
          "text": [
            "My owl's name is Hedwig.\n"
          ],
          "name": "stdout"
        }
      ]
    },
    {
      "cell_type": "markdown",
      "metadata": {
        "id": "BAJQC-CCOU5P"
      },
      "source": [
        "As you can see we explicitly tell Python which parameter each argument should be\n",
        "matched with. When Python reads the function call, it knows to store the\n",
        "argument 'owl' in the parameter animal_type and the argument 'hedwig'\n",
        "in pet_name. Now the order does not matter and it gives the correct output even when written in the opposite order."
      ]
    },
    {
      "cell_type": "markdown",
      "metadata": {
        "id": "4lXWhoBdWdmN"
      },
      "source": [
        "## Arbitrary Keyword Arguments, **kwargs\n",
        "If you do not know how many keyword arguments that will be passed into your function, add two asterisk: ** before the parameter name in the function definition.\n",
        "\n",
        "This way the function will receive a dictionary of arguments, and can access the items accordingly:"
      ]
    },
    {
      "cell_type": "code",
      "metadata": {
        "colab": {
          "base_uri": "https://localhost:8080/"
        },
        "id": "FnBBmZMsWuFN",
        "outputId": "569a4716-6861-4441-e9d6-a4f5997235bb"
      },
      "source": [
        "def describe_pet(**pet_info):\n",
        "  \"\"\"Display information about a pet.\"\"\"\n",
        "  print(\"My \" + pet_info['animal_type'] + \"'s name is \" + pet_info['pet_name'].title() + \".\")\n",
        "\n",
        "describe_pet(animal_type = \"owl\", pet_name = \"Hedwig\")"
      ],
      "execution_count": null,
      "outputs": [
        {
          "output_type": "stream",
          "text": [
            "My owl's name is Hedwig.\n"
          ],
          "name": "stdout"
        }
      ]
    },
    {
      "cell_type": "markdown",
      "metadata": {
        "id": "09llwsRvO2jI"
      },
      "source": [
        "## Default Values\n",
        "When writing a function, you can define a default value for each parameter.\n",
        "If an argument for a parameter is provided in the function call, Python uses\n",
        "the argument value. If not, it uses the parameter’s default value.   \n",
        "\n",
        "For example, if you notice that most of the calls to describe_pet() are\n",
        "being used to describe dogs, you can set the default value of animal_type to\n",
        "'dog'."
      ]
    },
    {
      "cell_type": "code",
      "metadata": {
        "colab": {
          "base_uri": "https://localhost:8080/"
        },
        "id": "97hj3opcPc8S",
        "outputId": "12fefcee-ac8e-462c-ff7c-64209f187cb3"
      },
      "source": [
        "def describe_pet(pet_name, animal_type = \"dog\"):\n",
        "  \"\"\"Display information about a pet.\"\"\"\n",
        "  print(\"My \" + animal_type + \"'s name is \" + pet_name.title() + \".\")\n",
        "\n",
        "describe_pet(\"Tommy\")"
      ],
      "execution_count": null,
      "outputs": [
        {
          "output_type": "stream",
          "text": [
            "My dog's name is Tommy.\n"
          ],
          "name": "stdout"
        }
      ]
    },
    {
      "cell_type": "markdown",
      "metadata": {
        "id": "zhdKESpRP9XT"
      },
      "source": [
        "We changed the definition of describe_pet() to include a default value,\n",
        "'dog', for animal_type. Now when the function is called with no animal_type\n",
        "specified, Python knows to use the value 'dog' for this parameter.  \n",
        "One thing to note here is that non-default parameters always come before the default ones. This also makes sense since the default value makes it unnecessary to specify a\n",
        "type of animal as an argument, the only argument left in the function call\n",
        "is the pet’s name. Python still interprets this as a positional argument, so if\n",
        "the function is called with just a pet’s name, that argument will match up\n",
        "with the first parameter listed.  \n",
        "\n",
        "To describe an animal other than a dog, you could use a function call\n",
        "like this"
      ]
    },
    {
      "cell_type": "code",
      "metadata": {
        "id": "HOiJyTzbQmfk"
      },
      "source": [
        "describe_pet(pet_name='harry', animal_type='hamster')"
      ],
      "execution_count": null,
      "outputs": []
    },
    {
      "cell_type": "markdown",
      "metadata": {
        "id": "L-IG906vQwRe"
      },
      "source": [
        "Because an explicit argument for animal_type is provided, Python will\n",
        "ignore the parameter’s default value."
      ]
    },
    {
      "cell_type": "markdown",
      "metadata": {
        "id": "C3V9YYLQQ3m3"
      },
      "source": [
        "## Return Statements\n",
        "A function doesn’t always have to display its output directly. Instead, it can\n",
        "process some data and then return a value or set of values. The value the\n",
        "function returns is called a *return value*. The *return statement* takes a value\n",
        "from inside a function and sends it back to the line that called the function."
      ]
    },
    {
      "cell_type": "code",
      "metadata": {
        "colab": {
          "base_uri": "https://localhost:8080/"
        },
        "id": "u6Sl7LTCXogQ",
        "outputId": "c96b5e00-7b40-4088-f60a-d503118733b5"
      },
      "source": [
        "def get_formatted_name(first_name, last_name):\n",
        "  \"\"\"Return a full name, neatly formatted.\"\"\"\n",
        "  full_name = first_name + ' ' + last_name\n",
        "  return full_name.title()\n",
        "\n",
        "musician = get_formatted_name('jimi', 'hendrix')\n",
        "print(musician)"
      ],
      "execution_count": null,
      "outputs": [
        {
          "output_type": "stream",
          "text": [
            "Jimi Hendrix\n"
          ],
          "name": "stdout"
        }
      ]
    },
    {
      "cell_type": "markdown",
      "metadata": {
        "id": "XjBbOlVLYDXW"
      },
      "source": [
        "The definition of get_formatted_name() takes as parameters a first and last\n",
        "name. The function combines these two names, adds a space between\n",
        "them, and stores the result in full_name. The value of full_name is converted\n",
        "to title case, and then returned to the calling line."
      ]
    },
    {
      "cell_type": "markdown",
      "metadata": {
        "id": "aI4pJby1QhyA"
      },
      "source": [
        "## Passing a list to a function\n",
        "You can send any data types of argument to a function (string, number, list, dictionary etc.), and it will be treated as the same data type inside the function. When you pass a list to a function, the function gets direct access to the contents of the list. Any changes made to the list inside the function’s body are permanent.\n"
      ]
    },
    {
      "cell_type": "code",
      "metadata": {
        "colab": {
          "base_uri": "https://localhost:8080/"
        },
        "id": "Dpqv9837Y5sH",
        "outputId": "f1c1bd68-1e95-4051-ad0e-4d2089715775"
      },
      "source": [
        "def print_models(unprinted_designs, completed_models):\n",
        "  \"\"\"\n",
        "  Simulate printing each design, until none are left.\n",
        "  Move each design to completed_models after printing.\n",
        "  \"\"\"\n",
        "  while unprinted_designs:\n",
        "    current_design = unprinted_designs.pop()\n",
        "    # Simulate creating a 3D print from the design.\n",
        "    print(\"Printing model: \" + current_design)\n",
        "    completed_models.append(current_design)\n",
        "\n",
        "unprinted_designs = ['iphone case', 'robot pendant', 'dodecahedron']\n",
        "completed_models = []\n",
        "print_models(unprinted_designs, completed_models)\n",
        "print(completed_models)\n",
        "print(unprinted_designs)"
      ],
      "execution_count": null,
      "outputs": [
        {
          "output_type": "stream",
          "text": [
            "Printing model: dodecahedron\n",
            "Printing model: robot pendant\n",
            "Printing model: iphone case\n",
            "['dodecahedron', 'robot pendant', 'iphone case']\n",
            "[]\n"
          ],
          "name": "stdout"
        }
      ]
    },
    {
      "cell_type": "markdown",
      "metadata": {
        "id": "ic3j-WxZbZFh"
      },
      "source": [
        "As you can observe as we append/pop models inside the print_model function the actual lists are modified."
      ]
    },
    {
      "cell_type": "markdown",
      "metadata": {
        "id": "LcXQH9-Ob_O1"
      },
      "source": [
        "If we want to prevent the actual lists from being modified we can pass the list using slice. "
      ]
    },
    {
      "cell_type": "code",
      "metadata": {
        "colab": {
          "base_uri": "https://localhost:8080/"
        },
        "id": "HndiQkKRcHUc",
        "outputId": "5776a0bd-ab0d-4f21-f273-370ca5eaab14"
      },
      "source": [
        "unprinted_designs = ['iphone case', 'robot pendant', 'dodecahedron']\n",
        "completed_models = []\n",
        "\n",
        "print_models(unprinted_designs[:], completed_models)\n",
        "print(unprinted_designs)"
      ],
      "execution_count": null,
      "outputs": [
        {
          "output_type": "stream",
          "text": [
            "Printing model: dodecahedron\n",
            "Printing model: robot pendant\n",
            "Printing model: iphone case\n",
            "['iphone case', 'robot pendant', 'dodecahedron']\n"
          ],
          "name": "stdout"
        }
      ]
    },
    {
      "cell_type": "markdown",
      "metadata": {
        "id": "Zqi7XtgGkrPH"
      },
      "source": [
        "This makes a copy of the list and passes that into the function. Thus the orginal list remains unaffected from any operations in the function."
      ]
    },
    {
      "cell_type": "markdown",
      "metadata": {
        "id": "ud6eX8fWnJ0t"
      },
      "source": [
        "## Lambda Function\n",
        "Lambda function or anonymous function refers to functions without a name. *lambda* keyword is used to create such functions. "
      ]
    },
    {
      "cell_type": "code",
      "metadata": {
        "id": "I1V7Zt4tpa3N"
      },
      "source": [
        "def cube(x): return x*x*x\n",
        " \n",
        "cube_v2 = lambda x : x*x*x\n",
        " \n",
        "print(cube(7))\n",
        "print(cube_v2(7))"
      ],
      "execution_count": null,
      "outputs": []
    },
    {
      "cell_type": "markdown",
      "metadata": {
        "id": "_09fROzbqybU"
      },
      "source": [
        "### Why Use Lambda Functions?\n",
        "\n",
        "The power of lambda is better shown when you use them as an anonymous function inside another function.\n",
        "\n",
        "Say you have a function definition that takes one argument, and that argument will be multiplied with an unknown number:"
      ]
    },
    {
      "cell_type": "code",
      "metadata": {
        "id": "Sy-e8DRQq4Kh"
      },
      "source": [
        "def myfunc(n):\n",
        "  return lambda a : a*n"
      ],
      "execution_count": null,
      "outputs": []
    },
    {
      "cell_type": "markdown",
      "metadata": {
        "id": "aIJ_-qC7rDQt"
      },
      "source": [
        "Now we can use this myfunc(n) to create more functions like we can make a function to double the number. "
      ]
    },
    {
      "cell_type": "code",
      "metadata": {
        "colab": {
          "base_uri": "https://localhost:8080/"
        },
        "id": "PFVkJLYYr4qC",
        "outputId": "45fae4fd-3678-4358-acb3-dba29b407bfe"
      },
      "source": [
        "mydoubler = myfunc(2)\n",
        "\n",
        "print(mydoubler(11))"
      ],
      "execution_count": null,
      "outputs": [
        {
          "output_type": "stream",
          "text": [
            "22\n"
          ],
          "name": "stdout"
        }
      ]
    },
    {
      "cell_type": "markdown",
      "metadata": {
        "id": "9EoGOwZ-sD24"
      },
      "source": [
        "or a tripler"
      ]
    },
    {
      "cell_type": "code",
      "metadata": {
        "colab": {
          "base_uri": "https://localhost:8080/"
        },
        "id": "LgAF29HssGQt",
        "outputId": "4dce588e-de49-47db-bca7-b50dee23efda"
      },
      "source": [
        "mytripler = myfunc(3)\n",
        "\n",
        "print(mytripler(7))"
      ],
      "execution_count": null,
      "outputs": [
        {
          "output_type": "stream",
          "text": [
            "21\n"
          ],
          "name": "stdout"
        }
      ]
    },
    {
      "cell_type": "code",
      "metadata": {
        "id": "NXgPrY0AuFK-"
      },
      "source": [
        ""
      ],
      "execution_count": null,
      "outputs": []
    }
  ]
}
