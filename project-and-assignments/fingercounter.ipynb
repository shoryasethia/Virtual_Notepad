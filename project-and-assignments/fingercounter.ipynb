{
 "cells": [
  {
   "cell_type": "code",
   "execution_count": 1,
   "metadata": {},
   "outputs": [
    {
     "name": "stdout",
     "output_type": "stream",
     "text": [
      "WARNING:tensorflow:From c:\\Users\\shory\\anaconda3\\envs\\myenv\\lib\\site-packages\\keras\\src\\losses.py:2976: The name tf.losses.sparse_softmax_cross_entropy is deprecated. Please use tf.compat.v1.losses.sparse_softmax_cross_entropy instead.\n",
      "\n"
     ]
    }
   ],
   "source": [
    "import time\n",
    "import cv2 \n",
    "import os\n",
    "import mediapipe as mp  \n",
    "import HandTrackingModule as htm"
   ]
  },
  {
   "cell_type": "code",
   "execution_count": 3,
   "metadata": {},
   "outputs": [],
   "source": [
    "cap = cv2.VideoCapture(0)\n",
    "\n",
    "w_cam = 640\n",
    "h_cam = 480\n",
    "\n",
    "cap.set(3, w_cam) #sets width\n",
    "cap.set(4, h_cam) #sets height\n",
    "\n",
    "folderPath = \"images/num_finger\"\n",
    "myList = os.listdir(folderPath)\n",
    "# print(myList) \n",
    "overlayList = []\n",
    "\n",
    "\n",
    "for imPath in myList:\n",
    "  image = cv2.imread(f'{folderPath}/{imPath}')\n",
    "  overlayList.append(image) #to save the imported image\n",
    "\n",
    "# print(len(overlayList))       #output = 6\n",
    "\n",
    "pTime = 0\n",
    "\n",
    "detector=htm.handDetector(detectionCon = 0.75)\n",
    "\n",
    "\n",
    "while True:\n",
    "  success, img = cap.read()\n",
    "  \n",
    "  img = cv2.flip(img, 1)\n",
    "  \n",
    "  img = cv2.cvtColor(img, cv2.COLOR_BGR2RGB)\n",
    "  img = detector.findHands(img)\n",
    "  \n",
    "  lmList = detector.findPosition(img, draw=False)\n",
    "  tipIds = [4, 8, 12, 16, 20]\n",
    "  \n",
    "  if len(lmList) != 0:\n",
    "    fingers = []\n",
    "    for id in range(0,5):\n",
    "      if id != 0: #fingers\n",
    "        if lmList[tipIds[id]][2]<lmList[tipIds[id]-2][2]:\n",
    "          fingers.append(1)\n",
    "        else:\n",
    "          fingers.append(0)\n",
    "          \n",
    "      if id == 0: #thumb\n",
    "        if lmList[tipIds[id]][1]<lmList[tipIds[id]-1][1]:\n",
    "          fingers.append(1)\n",
    "        else:\n",
    "          fingers.append(0)\n",
    "      \n",
    "\n",
    "    # print(fingers.count(1))\n",
    "    \n",
    "    h, w, c = overlayList[fingers.count(1)].shape\n",
    "    img[0:h, 0:w] = overlayList[fingers.count(1)]\n",
    "    \n",
    "    cv2.rectangle(img,(5,h+5),(30,h+65),(0,255,0),cv2.FILLED)\n",
    "    cv2.putText(img, f\"{fingers.count(1)}\", (11,h+49), cv2.FONT_HERSHEY_PLAIN, 2, (0,0,0),3)\n",
    "  \n",
    "  \n",
    "  cTime= time.time()\n",
    "  fps=1/(cTime-pTime)\n",
    "  pTime = cTime\n",
    "  \n",
    "  cv2.putText(img, f'FPS={int(fps)}', (40,h_cam - 50), cv2.FONT_HERSHEY_PLAIN, 3, (255,0,0),3)\n",
    "  cv2.putText(img, f\"Use Right hand's Light Side\", (40,h_cam - 10), cv2.FONT_HERSHEY_PLAIN, 2, (0,0,0),3)\n",
    "\n",
    "  \n",
    "  \n",
    "  cv2.imshow(\"Finger Counter\", img)\n",
    "  \n",
    "  cv2.waitKey(1)\n",
    "  if cv2.waitKey(1) & 0xFF == ord('q'): \n",
    "    break  \n",
    "   \n",
    "cap.release()\n",
    "cv2.destroyAllWindows()"
   ]
  },
  {
   "cell_type": "code",
   "execution_count": null,
   "metadata": {},
   "outputs": [],
   "source": []
  }
 ],
 "metadata": {
  "kernelspec": {
   "display_name": "myenv",
   "language": "python",
   "name": "python3"
  },
  "language_info": {
   "codemirror_mode": {
    "name": "ipython",
    "version": 3
   },
   "file_extension": ".py",
   "mimetype": "text/x-python",
   "name": "python",
   "nbconvert_exporter": "python",
   "pygments_lexer": "ipython3",
   "version": "3.9.19"
  }
 },
 "nbformat": 4,
 "nbformat_minor": 2
}
