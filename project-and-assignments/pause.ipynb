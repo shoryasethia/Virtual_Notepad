{
 "cells": [
  {
   "cell_type": "code",
   "execution_count": 1,
   "metadata": {},
   "outputs": [],
   "source": [
    "import cv2\n",
    "import time\n",
    "import numpy as np\n",
    "import HandTrackingModule as htm\n",
    "import os"
   ]
  },
  {
   "cell_type": "code",
   "execution_count": 2,
   "metadata": {},
   "outputs": [
    {
     "data": {
      "text/plain": [
       "[]"
      ]
     },
     "execution_count": 2,
     "metadata": {},
     "output_type": "execute_result"
    }
   ],
   "source": [
    "folderPath = \"images/pause\"\n",
    "myList = os.listdir(folderPath)\n",
    "myList"
   ]
  },
  {
   "cell_type": "code",
   "execution_count": 4,
   "metadata": {},
   "outputs": [],
   "source": [
    "# Initialize camera\n",
    "cap = cv2.VideoCapture(0)\n",
    "\n",
    "# Set camera width and height\n",
    "w_cam = 1280\n",
    "h_cam = 720\n",
    "\n",
    "cap.set(3, w_cam)  # sets width\n",
    "cap.set(4, h_cam)  # sets height\n",
    "\n",
    "# Path to save images\n",
    "folderPath = \"images/pause\"\n",
    "os.makedirs(folderPath, exist_ok=True)\n",
    "\n",
    "pTime = 0\n",
    "\n",
    "# Initialize hand detector\n",
    "detector = htm.handDetector(detectionCon=0.75)\n",
    "pause = False\n",
    "paused_image_path = os.path.join(folderPath, \"current_img.png\")\n",
    "\n",
    "while True:\n",
    "    success, img = cap.read()\n",
    "    if not success:\n",
    "        break\n",
    "\n",
    "    img = cv2.flip(img, 1)  # Flip the image horizontally\n",
    "\n",
    "    img = detector.findHands(img)\n",
    "    lmList = detector.findPosition(img, draw=False)\n",
    "    tipIds = [4, 8, 12, 16, 20]\n",
    "\n",
    "    if len(lmList) != 0:\n",
    "        fingers = []\n",
    "\n",
    "        # Thumb\n",
    "        if lmList[tipIds[0]][1] < lmList[tipIds[0] - 1][1]:\n",
    "            fingers.append(1)\n",
    "        else:\n",
    "            fingers.append(0)\n",
    "\n",
    "        # Other fingers\n",
    "        for id in range(1, 5):\n",
    "            if lmList[tipIds[id]][2] < lmList[tipIds[id] - 2][2]:\n",
    "                fingers.append(1)\n",
    "            else:\n",
    "                fingers.append(0)\n",
    "\n",
    "        if fingers.count(1) >= 4 and not pause:\n",
    "            cv2.imwrite(paused_image_path, img)\n",
    "            pause = True\n",
    "        elif fingers.count(1) < 4:\n",
    "            pause = False\n",
    "\n",
    "    cTime = time.time()\n",
    "    fps = 1 / (cTime - pTime)\n",
    "    pTime = cTime\n",
    "\n",
    "    if pause:\n",
    "        saved_img = cv2.imread(paused_image_path)\n",
    "        cv2.putText(saved_img, 'PAUSE', (50, h_cam - 150), cv2.FONT_HERSHEY_PLAIN, 3, (255, 0, 0), 3)\n",
    "        cv2.imshow(\"Image\", saved_img)\n",
    "    else:\n",
    "        cv2.putText(img, f'FPS={int(fps)}', (50, h_cam - 150), cv2.FONT_HERSHEY_PLAIN, 3, (255, 0, 0), 3)\n",
    "        cv2.imshow(\"Image\", img)\n",
    "\n",
    "    if cv2.waitKey(1) & 0xFF == ord('q'):\n",
    "        os.remove(os.path.join(folderPath, \"current_img.png\"))\n",
    "        break\n",
    "\n",
    "cap.release()\n",
    "cv2.destroyAllWindows()\n"
   ]
  },
  {
   "cell_type": "code",
   "execution_count": null,
   "metadata": {},
   "outputs": [],
   "source": []
  }
 ],
 "metadata": {
  "kernelspec": {
   "display_name": "myenv",
   "language": "python",
   "name": "python3"
  },
  "language_info": {
   "codemirror_mode": {
    "name": "ipython",
    "version": 3
   },
   "file_extension": ".py",
   "mimetype": "text/x-python",
   "name": "python",
   "nbconvert_exporter": "python",
   "pygments_lexer": "ipython3",
   "version": "3.9.19"
  }
 },
 "nbformat": 4,
 "nbformat_minor": 2
}
